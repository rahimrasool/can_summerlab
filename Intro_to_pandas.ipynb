{
 "cells": [
  {
   "cell_type": "markdown",
   "id": "f8fc6ce7",
   "metadata": {},
   "source": [
    "# Introduction to Pandas "
   ]
  },
  {
   "cell_type": "markdown",
   "id": "746d1ac8",
   "metadata": {},
   "source": [
    "For doing data analysis and manipulation in Python, Pandas is one of the most powerful, resourceful and intuituve packages. It consists of data structures and functions and can assist us with doing a huge set of tasks for analytical work. In order to use these resources in our script, Pandas needs to be loaded using the **import** command, as shown below. We can also define an alias for Pandas (we used pd) as we are going to use Pandas' modules multiple times in our code.\n",
    "\n",
    "<img src=\"https://pandas.pydata.org/docs/_static/pandas.svg\" width=\"200\"/>"
   ]
  },
  {
   "cell_type": "markdown",
   "id": "45f69e9b",
   "metadata": {},
   "source": [
    "Pandas enables us to work with data structures, a special form of storage to store and process data. For example, a DataFrame (to be discussed below) is a data structure to store data in a format similar to an Excel spreadsheet. We can create a DataFrame to store a dataset in form of a table and this DataFrame will have multiple methods and functions that operate on it to process the data it stores.\n",
    "\n",
    "Pandas comes usually installed with Jupyter environments like the one you are using here. If Pandas is installed, you can check the current version of Pandas by using the ```pd.__version__``` command after the import command below:\n",
    "\n",
    "*Note: pd is an alias for pandas*"
   ]
  },
  {
   "cell_type": "code",
   "execution_count": 1,
   "id": "2dbb932b",
   "metadata": {
    "scrolled": true
   },
   "outputs": [
    {
     "data": {
      "text/plain": [
       "'1.4.2'"
      ]
     },
     "execution_count": 1,
     "metadata": {},
     "output_type": "execute_result"
    }
   ],
   "source": [
    "import pandas as pd\n",
    "pd.__version__"
   ]
  },
  {
   "cell_type": "markdown",
   "id": "37ae8ac6",
   "metadata": {},
   "source": [
    "### Data Structures in Pandas\n",
    "\n",
    "We will learn the 2 fundamental data structures in Pandas: **Series** and **DataFrames**. \n",
    "\n",
    "![](images/series.png)"
   ]
  },
  {
   "cell_type": "markdown",
   "id": "202fe57f",
   "metadata": {},
   "source": [
    "**Series** is a one-dimensional data structure which can hold data of multiple types. Series are labelled where an index labels each element inside a series. Series can be created out from a Python list, a Python dictionary or even a scalar value. A particular Pandas Series can hold only a single data type.\n",
    "\n",
    "Below, we will go through 2 of the ways to create a Pandas Series. The method below creates a Series out of a Python dictionary."
   ]
  },
  {
   "cell_type": "code",
   "execution_count": 2,
   "id": "67dda5ed",
   "metadata": {
    "scrolled": true
   },
   "outputs": [],
   "source": [
    "sample_dictionary = {'Mercury': 35, 'Venus': 67, 'Earth': 93}\n",
    "\n",
    "sample_series = pd.Series(sample_dictionary)"
   ]
  },
  {
   "cell_type": "markdown",
   "id": "d418690d",
   "metadata": {},
   "source": [
    "Note: Typing and running the data structure name on a Jupyter cell displays the elements of the data structure."
   ]
  },
  {
   "cell_type": "code",
   "execution_count": 3,
   "id": "47c7e909",
   "metadata": {
    "scrolled": true
   },
   "outputs": [
    {
     "data": {
      "text/plain": [
       "Mercury    35\n",
       "Venus      67\n",
       "Earth      93\n",
       "dtype: int64"
      ]
     },
     "execution_count": 3,
     "metadata": {},
     "output_type": "execute_result"
    }
   ],
   "source": [
    "# Print the series\n",
    "sample_series"
   ]
  },
  {
   "cell_type": "markdown",
   "id": "ab0e523d",
   "metadata": {},
   "source": [
    "The keys in the dictionary becomes the index of the element in the Series, whereas, the values are the data stored in the Series as it's elements.\n",
    "\n",
    "Note: if we do not specify the index, the default numeric range (from 0 till length of all elements) will be given.\n",
    "\n",
    "We will now create a Series from a list, without giving the index. In the cell after that, we will provide the index while we create a Series out of a list."
   ]
  },
  {
   "cell_type": "code",
   "execution_count": 4,
   "id": "511030ef",
   "metadata": {
    "scrolled": true
   },
   "outputs": [
    {
     "data": {
      "text/plain": [
       "0    35\n",
       "1    67\n",
       "2    93\n",
       "dtype: int64"
      ]
     },
     "execution_count": 4,
     "metadata": {},
     "output_type": "execute_result"
    }
   ],
   "source": [
    "sample_list = [35, 67, 93]\n",
    "\n",
    "sample_series = pd.Series(sample_list)\n",
    "\n",
    "sample_series"
   ]
  },
  {
   "cell_type": "code",
   "execution_count": 5,
   "id": "621ba53e",
   "metadata": {
    "scrolled": true
   },
   "outputs": [
    {
     "data": {
      "text/plain": [
       "Mercury    35\n",
       "Venus      67\n",
       "Earth      93\n",
       "dtype: int64"
      ]
     },
     "execution_count": 5,
     "metadata": {},
     "output_type": "execute_result"
    }
   ],
   "source": [
    "sample_series = pd.Series(sample_list, index = ['Mercury', 'Venus', 'Earth'])\n",
    "\n",
    "sample_series"
   ]
  },
  {
   "cell_type": "markdown",
   "id": "6dbc529e",
   "metadata": {},
   "source": [
    "<hr style=\"border:2px solid gray\">\n",
    "\n",
    "Unlike Series, **DataFrames** are multi-dimensional, primarily consisting of rows and columns. They are similar to a spreadsheet or a SQL table. Pandas provides all functionalities and methods to deal with data in the DataFrame. Each row in a DataFrame is labeled with an index, as it is done in Series. Whereas, there are also labels for each column. In one of upcoming sections, we will also have a look at multi-level indexing for DataFrames.\n",
    "\n",
    "![](images/dataframe.png)\n",
    "\n",
    "There are several ways to create or form a DataFrame. A DataFrame can be created from combining multiple Series. It can also be formed out of Python lists and dictionaries. In the first cell, we will create a DataFrame using a Dictionary of lists. \n",
    "\n",
    "In the examples below, we are creating data for site views (in thousands) on a website per browser every year."
   ]
  },
  {
   "cell_type": "code",
   "execution_count": 6,
   "id": "e8d57dbe",
   "metadata": {
    "scrolled": true
   },
   "outputs": [
    {
     "data": {
      "text/html": [
       "<div>\n",
       "<style scoped>\n",
       "    .dataframe tbody tr th:only-of-type {\n",
       "        vertical-align: middle;\n",
       "    }\n",
       "\n",
       "    .dataframe tbody tr th {\n",
       "        vertical-align: top;\n",
       "    }\n",
       "\n",
       "    .dataframe thead th {\n",
       "        text-align: right;\n",
       "    }\n",
       "</style>\n",
       "<table border=\"1\" class=\"dataframe\">\n",
       "  <thead>\n",
       "    <tr style=\"text-align: right;\">\n",
       "      <th></th>\n",
       "      <th>Chrome</th>\n",
       "      <th>Safari</th>\n",
       "      <th>Firefox</th>\n",
       "    </tr>\n",
       "  </thead>\n",
       "  <tbody>\n",
       "    <tr>\n",
       "      <th>2018</th>\n",
       "      <td>67</td>\n",
       "      <td>44</td>\n",
       "      <td>8</td>\n",
       "    </tr>\n",
       "    <tr>\n",
       "      <th>2019</th>\n",
       "      <td>74</td>\n",
       "      <td>58</td>\n",
       "      <td>14</td>\n",
       "    </tr>\n",
       "    <tr>\n",
       "      <th>2020</th>\n",
       "      <td>89</td>\n",
       "      <td>70</td>\n",
       "      <td>16</td>\n",
       "    </tr>\n",
       "  </tbody>\n",
       "</table>\n",
       "</div>"
      ],
      "text/plain": [
       "      Chrome  Safari  Firefox\n",
       "2018      67      44        8\n",
       "2019      74      58       14\n",
       "2020      89      70       16"
      ]
     },
     "execution_count": 6,
     "metadata": {},
     "output_type": "execute_result"
    }
   ],
   "source": [
    "web_views = pd.DataFrame({\n",
    "    'Chrome': [67, 74, 89],\n",
    "    'Safari': [44, 58, 70],\n",
    "    'Firefox': [8, 14, 16]\n",
    "}, index = [2018, 2019, 2020])\n",
    "\n",
    "web_views"
   ]
  },
  {
   "cell_type": "markdown",
   "id": "9f6ba62d",
   "metadata": {},
   "source": [
    "Below we will create a DataFrame using a list of dictionaries."
   ]
  },
  {
   "cell_type": "code",
   "execution_count": 7,
   "id": "a9720520",
   "metadata": {
    "scrolled": true
   },
   "outputs": [
    {
     "data": {
      "text/html": [
       "<div>\n",
       "<style scoped>\n",
       "    .dataframe tbody tr th:only-of-type {\n",
       "        vertical-align: middle;\n",
       "    }\n",
       "\n",
       "    .dataframe tbody tr th {\n",
       "        vertical-align: top;\n",
       "    }\n",
       "\n",
       "    .dataframe thead th {\n",
       "        text-align: right;\n",
       "    }\n",
       "</style>\n",
       "<table border=\"1\" class=\"dataframe\">\n",
       "  <thead>\n",
       "    <tr style=\"text-align: right;\">\n",
       "      <th></th>\n",
       "      <th>Chrome</th>\n",
       "      <th>Safari</th>\n",
       "      <th>Firefox</th>\n",
       "    </tr>\n",
       "  </thead>\n",
       "  <tbody>\n",
       "    <tr>\n",
       "      <th>0</th>\n",
       "      <td>67</td>\n",
       "      <td>44</td>\n",
       "      <td>8</td>\n",
       "    </tr>\n",
       "    <tr>\n",
       "      <th>1</th>\n",
       "      <td>74</td>\n",
       "      <td>58</td>\n",
       "      <td>14</td>\n",
       "    </tr>\n",
       "    <tr>\n",
       "      <th>2</th>\n",
       "      <td>89</td>\n",
       "      <td>70</td>\n",
       "      <td>16</td>\n",
       "    </tr>\n",
       "  </tbody>\n",
       "</table>\n",
       "</div>"
      ],
      "text/plain": [
       "   Chrome  Safari  Firefox\n",
       "0      67      44        8\n",
       "1      74      58       14\n",
       "2      89      70       16"
      ]
     },
     "execution_count": 7,
     "metadata": {},
     "output_type": "execute_result"
    }
   ],
   "source": [
    "web_views = pd.DataFrame(\n",
    "    [{\"Chrome\": 67, \"Safari\": 44, \"Firefox\":8 }, \n",
    "     {\"Chrome\": 74, \"Safari\": 58, \"Firefox\": 14},\n",
    "    {\"Chrome\": 89, \"Safari\": 70, \"Firefox\": 16}]\n",
    ")\n",
    "\n",
    "web_views"
   ]
  },
  {
   "cell_type": "markdown",
   "id": "70f7e74f",
   "metadata": {},
   "source": [
    "**Note**: If we do not provide the index, Pandas uses the default index: a list of integers beginning from 0 to length of the dataframe.\n",
    "\n",
    "In the following cell we will create a DataFrame using a 2 dimensional list."
   ]
  },
  {
   "cell_type": "code",
   "execution_count": 8,
   "id": "04836d98",
   "metadata": {
    "scrolled": true
   },
   "outputs": [
    {
     "data": {
      "text/html": [
       "<div>\n",
       "<style scoped>\n",
       "    .dataframe tbody tr th:only-of-type {\n",
       "        vertical-align: middle;\n",
       "    }\n",
       "\n",
       "    .dataframe tbody tr th {\n",
       "        vertical-align: top;\n",
       "    }\n",
       "\n",
       "    .dataframe thead th {\n",
       "        text-align: right;\n",
       "    }\n",
       "</style>\n",
       "<table border=\"1\" class=\"dataframe\">\n",
       "  <thead>\n",
       "    <tr style=\"text-align: right;\">\n",
       "      <th></th>\n",
       "      <th>Chrome</th>\n",
       "      <th>Safari</th>\n",
       "      <th>Firefox</th>\n",
       "    </tr>\n",
       "  </thead>\n",
       "  <tbody>\n",
       "    <tr>\n",
       "      <th>2018</th>\n",
       "      <td>67</td>\n",
       "      <td>74</td>\n",
       "      <td>89</td>\n",
       "    </tr>\n",
       "    <tr>\n",
       "      <th>2019</th>\n",
       "      <td>44</td>\n",
       "      <td>58</td>\n",
       "      <td>70</td>\n",
       "    </tr>\n",
       "    <tr>\n",
       "      <th>2020</th>\n",
       "      <td>8</td>\n",
       "      <td>14</td>\n",
       "      <td>16</td>\n",
       "    </tr>\n",
       "  </tbody>\n",
       "</table>\n",
       "</div>"
      ],
      "text/plain": [
       "      Chrome  Safari  Firefox\n",
       "2018      67      74       89\n",
       "2019      44      58       70\n",
       "2020       8      14       16"
      ]
     },
     "execution_count": 8,
     "metadata": {},
     "output_type": "execute_result"
    }
   ],
   "source": [
    "web_views = pd.DataFrame(\n",
    "    [[67, 74, 89],\n",
    "     [44, 58, 70],\n",
    "     [8, 14, 16]],\n",
    "    index = [2018, 2019, 2020], columns = [\"Chrome\", \"Safari\", \"Firefox\"]\n",
    ")\n",
    "\n",
    "web_views"
   ]
  },
  {
   "cell_type": "markdown",
   "id": "0bf78822",
   "metadata": {},
   "source": [
    "### Files in Pandas\n",
    "\n",
    "Pandas offers reader functions which can read in a data file and enable us to store it in a Pandas data structure. The most useful one `read.csv()` will read a text file and convert it to a DataFrame (primarily used for reading comma-separated files). Pandas also offers `read_json()` and `read_excel` to read json and excel files, respectively, 2 of the most common file types for data.\n",
    "\n",
    "We will use the `read.csv` function to read the Chicago Police Traffic Stops data."
   ]
  },
  {
   "cell_type": "code",
   "execution_count": 9,
   "id": "839017a3",
   "metadata": {
    "scrolled": true
   },
   "outputs": [],
   "source": [
    "stops_df = pd.read_csv('TrafficStopsChicago.csv')"
   ]
  },
  {
   "cell_type": "markdown",
   "id": "ece70417",
   "metadata": {},
   "source": [
    "The [documentation](https://pandas.pydata.org/docs/reference/api/pandas.read_csv.html) provides great detail of the arguments that `read_csv()` function accepts. Some of the common ones that you must know are:\n",
    "\n",
    "**filepath_or_buffer**: Either a path to a file or URL.\n",
    "<br>**sep**: Delimiter to use. Default delimiter is `','` (for comma-separated files. Use `'\\t'` for tab-separated files, tsv)\n",
    "\n",
    "For a large DataFrame, typing and running the DataFrame name on a Jupyter cell displays the dataset with truncated rows and columns."
   ]
  },
  {
   "cell_type": "code",
   "execution_count": 10,
   "id": "dbf9cd7e",
   "metadata": {
    "scrolled": true
   },
   "outputs": [
    {
     "data": {
      "text/html": [
       "<div>\n",
       "<style scoped>\n",
       "    .dataframe tbody tr th:only-of-type {\n",
       "        vertical-align: middle;\n",
       "    }\n",
       "\n",
       "    .dataframe tbody tr th {\n",
       "        vertical-align: top;\n",
       "    }\n",
       "\n",
       "    .dataframe thead th {\n",
       "        text-align: right;\n",
       "    }\n",
       "</style>\n",
       "<table border=\"1\" class=\"dataframe\">\n",
       "  <thead>\n",
       "    <tr style=\"text-align: right;\">\n",
       "      <th></th>\n",
       "      <th>DateStop</th>\n",
       "      <th>TimeStop</th>\n",
       "      <th>Duration</th>\n",
       "      <th>City</th>\n",
       "      <th>DriverRace</th>\n",
       "      <th>TypeOfMovingViolation</th>\n",
       "      <th>Beat</th>\n",
       "      <th>ContraFound</th>\n",
       "      <th>DrugsFound</th>\n",
       "      <th>WeaponFound</th>\n",
       "    </tr>\n",
       "  </thead>\n",
       "  <tbody>\n",
       "    <tr>\n",
       "      <th>0</th>\n",
       "      <td>2021-01-01</td>\n",
       "      <td>0:33</td>\n",
       "      <td>5</td>\n",
       "      <td>CHICAGO</td>\n",
       "      <td>4.0</td>\n",
       "      <td>NaN</td>\n",
       "      <td>1234</td>\n",
       "      <td>0</td>\n",
       "      <td>0</td>\n",
       "      <td>0</td>\n",
       "    </tr>\n",
       "    <tr>\n",
       "      <th>1</th>\n",
       "      <td>2021-01-01</td>\n",
       "      <td>1:50</td>\n",
       "      <td>4</td>\n",
       "      <td>CHICAGO</td>\n",
       "      <td>2.0</td>\n",
       "      <td>NaN</td>\n",
       "      <td>1122</td>\n",
       "      <td>0</td>\n",
       "      <td>0</td>\n",
       "      <td>0</td>\n",
       "    </tr>\n",
       "    <tr>\n",
       "      <th>2</th>\n",
       "      <td>2021-01-01</td>\n",
       "      <td>8:50</td>\n",
       "      <td>4</td>\n",
       "      <td>CHICAGO</td>\n",
       "      <td>2.0</td>\n",
       "      <td>NaN</td>\n",
       "      <td>332</td>\n",
       "      <td>0</td>\n",
       "      <td>0</td>\n",
       "      <td>0</td>\n",
       "    </tr>\n",
       "    <tr>\n",
       "      <th>3</th>\n",
       "      <td>2021-01-01</td>\n",
       "      <td>12:41</td>\n",
       "      <td>6</td>\n",
       "      <td>CHICAGO</td>\n",
       "      <td>2.0</td>\n",
       "      <td>NaN</td>\n",
       "      <td>1121</td>\n",
       "      <td>0</td>\n",
       "      <td>0</td>\n",
       "      <td>0</td>\n",
       "    </tr>\n",
       "    <tr>\n",
       "      <th>4</th>\n",
       "      <td>2021-01-01</td>\n",
       "      <td>13:51</td>\n",
       "      <td>5</td>\n",
       "      <td>CHICAGO</td>\n",
       "      <td>2.0</td>\n",
       "      <td>NaN</td>\n",
       "      <td>423</td>\n",
       "      <td>0</td>\n",
       "      <td>0</td>\n",
       "      <td>0</td>\n",
       "    </tr>\n",
       "    <tr>\n",
       "      <th>...</th>\n",
       "      <td>...</td>\n",
       "      <td>...</td>\n",
       "      <td>...</td>\n",
       "      <td>...</td>\n",
       "      <td>...</td>\n",
       "      <td>...</td>\n",
       "      <td>...</td>\n",
       "      <td>...</td>\n",
       "      <td>...</td>\n",
       "      <td>...</td>\n",
       "    </tr>\n",
       "    <tr>\n",
       "      <th>76275</th>\n",
       "      <td>2021-02-28</td>\n",
       "      <td>20:34</td>\n",
       "      <td>9</td>\n",
       "      <td>CHICAGO</td>\n",
       "      <td>4.0</td>\n",
       "      <td>4.0</td>\n",
       "      <td>1533</td>\n",
       "      <td>0</td>\n",
       "      <td>0</td>\n",
       "      <td>0</td>\n",
       "    </tr>\n",
       "    <tr>\n",
       "      <th>76276</th>\n",
       "      <td>2021-02-28</td>\n",
       "      <td>20:06</td>\n",
       "      <td>4</td>\n",
       "      <td>CHICAGO</td>\n",
       "      <td>2.0</td>\n",
       "      <td>NaN</td>\n",
       "      <td>214</td>\n",
       "      <td>0</td>\n",
       "      <td>0</td>\n",
       "      <td>0</td>\n",
       "    </tr>\n",
       "    <tr>\n",
       "      <th>76277</th>\n",
       "      <td>2021-02-28</td>\n",
       "      <td>21:47</td>\n",
       "      <td>4</td>\n",
       "      <td>SAINT PAUL</td>\n",
       "      <td>2.0</td>\n",
       "      <td>NaN</td>\n",
       "      <td>1821</td>\n",
       "      <td>0</td>\n",
       "      <td>0</td>\n",
       "      <td>0</td>\n",
       "    </tr>\n",
       "    <tr>\n",
       "      <th>76278</th>\n",
       "      <td>2021-02-28</td>\n",
       "      <td>21:15</td>\n",
       "      <td>5</td>\n",
       "      <td>CHICAGO</td>\n",
       "      <td>2.0</td>\n",
       "      <td>NaN</td>\n",
       "      <td>331</td>\n",
       "      <td>0</td>\n",
       "      <td>0</td>\n",
       "      <td>0</td>\n",
       "    </tr>\n",
       "    <tr>\n",
       "      <th>76279</th>\n",
       "      <td>2021-02-28</td>\n",
       "      <td>21:15</td>\n",
       "      <td>4</td>\n",
       "      <td>CHICAGO</td>\n",
       "      <td>4.0</td>\n",
       "      <td>NaN</td>\n",
       "      <td>1033</td>\n",
       "      <td>0</td>\n",
       "      <td>0</td>\n",
       "      <td>0</td>\n",
       "    </tr>\n",
       "  </tbody>\n",
       "</table>\n",
       "<p>76280 rows × 10 columns</p>\n",
       "</div>"
      ],
      "text/plain": [
       "         DateStop TimeStop  Duration        City  DriverRace  \\\n",
       "0      2021-01-01     0:33         5     CHICAGO         4.0   \n",
       "1      2021-01-01     1:50         4     CHICAGO         2.0   \n",
       "2      2021-01-01     8:50         4     CHICAGO         2.0   \n",
       "3      2021-01-01    12:41         6     CHICAGO         2.0   \n",
       "4      2021-01-01    13:51         5     CHICAGO         2.0   \n",
       "...           ...      ...       ...         ...         ...   \n",
       "76275  2021-02-28    20:34         9     CHICAGO         4.0   \n",
       "76276  2021-02-28    20:06         4     CHICAGO         2.0   \n",
       "76277  2021-02-28    21:47         4  SAINT PAUL         2.0   \n",
       "76278  2021-02-28    21:15         5     CHICAGO         2.0   \n",
       "76279  2021-02-28    21:15         4     CHICAGO         4.0   \n",
       "\n",
       "       TypeOfMovingViolation  Beat  ContraFound  DrugsFound  WeaponFound  \n",
       "0                        NaN  1234            0           0            0  \n",
       "1                        NaN  1122            0           0            0  \n",
       "2                        NaN   332            0           0            0  \n",
       "3                        NaN  1121            0           0            0  \n",
       "4                        NaN   423            0           0            0  \n",
       "...                      ...   ...          ...         ...          ...  \n",
       "76275                    4.0  1533            0           0            0  \n",
       "76276                    NaN   214            0           0            0  \n",
       "76277                    NaN  1821            0           0            0  \n",
       "76278                    NaN   331            0           0            0  \n",
       "76279                    NaN  1033            0           0            0  \n",
       "\n",
       "[76280 rows x 10 columns]"
      ]
     },
     "execution_count": 10,
     "metadata": {},
     "output_type": "execute_result"
    }
   ],
   "source": [
    "stops_df"
   ]
  },
  {
   "cell_type": "markdown",
   "id": "8be71667",
   "metadata": {},
   "source": [
    "This dataset is huge! Pandas also offers methods to view a small sample of a Series or a DataFrame. The `head()` and `tail()` methods enable us to do that. They show us the first set of rows and the last set of rows, respectively. By default, they display 5 rows. The argument to these methods can be changed to the number of rows needed to be displayed."
   ]
  },
  {
   "cell_type": "code",
   "execution_count": 11,
   "id": "694b3a43",
   "metadata": {
    "scrolled": true
   },
   "outputs": [
    {
     "data": {
      "text/html": [
       "<div>\n",
       "<style scoped>\n",
       "    .dataframe tbody tr th:only-of-type {\n",
       "        vertical-align: middle;\n",
       "    }\n",
       "\n",
       "    .dataframe tbody tr th {\n",
       "        vertical-align: top;\n",
       "    }\n",
       "\n",
       "    .dataframe thead th {\n",
       "        text-align: right;\n",
       "    }\n",
       "</style>\n",
       "<table border=\"1\" class=\"dataframe\">\n",
       "  <thead>\n",
       "    <tr style=\"text-align: right;\">\n",
       "      <th></th>\n",
       "      <th>DateStop</th>\n",
       "      <th>TimeStop</th>\n",
       "      <th>Duration</th>\n",
       "      <th>City</th>\n",
       "      <th>DriverRace</th>\n",
       "      <th>TypeOfMovingViolation</th>\n",
       "      <th>Beat</th>\n",
       "      <th>ContraFound</th>\n",
       "      <th>DrugsFound</th>\n",
       "      <th>WeaponFound</th>\n",
       "    </tr>\n",
       "  </thead>\n",
       "  <tbody>\n",
       "    <tr>\n",
       "      <th>0</th>\n",
       "      <td>2021-01-01</td>\n",
       "      <td>0:33</td>\n",
       "      <td>5</td>\n",
       "      <td>CHICAGO</td>\n",
       "      <td>4.0</td>\n",
       "      <td>NaN</td>\n",
       "      <td>1234</td>\n",
       "      <td>0</td>\n",
       "      <td>0</td>\n",
       "      <td>0</td>\n",
       "    </tr>\n",
       "    <tr>\n",
       "      <th>1</th>\n",
       "      <td>2021-01-01</td>\n",
       "      <td>1:50</td>\n",
       "      <td>4</td>\n",
       "      <td>CHICAGO</td>\n",
       "      <td>2.0</td>\n",
       "      <td>NaN</td>\n",
       "      <td>1122</td>\n",
       "      <td>0</td>\n",
       "      <td>0</td>\n",
       "      <td>0</td>\n",
       "    </tr>\n",
       "    <tr>\n",
       "      <th>2</th>\n",
       "      <td>2021-01-01</td>\n",
       "      <td>8:50</td>\n",
       "      <td>4</td>\n",
       "      <td>CHICAGO</td>\n",
       "      <td>2.0</td>\n",
       "      <td>NaN</td>\n",
       "      <td>332</td>\n",
       "      <td>0</td>\n",
       "      <td>0</td>\n",
       "      <td>0</td>\n",
       "    </tr>\n",
       "    <tr>\n",
       "      <th>3</th>\n",
       "      <td>2021-01-01</td>\n",
       "      <td>12:41</td>\n",
       "      <td>6</td>\n",
       "      <td>CHICAGO</td>\n",
       "      <td>2.0</td>\n",
       "      <td>NaN</td>\n",
       "      <td>1121</td>\n",
       "      <td>0</td>\n",
       "      <td>0</td>\n",
       "      <td>0</td>\n",
       "    </tr>\n",
       "    <tr>\n",
       "      <th>4</th>\n",
       "      <td>2021-01-01</td>\n",
       "      <td>13:51</td>\n",
       "      <td>5</td>\n",
       "      <td>CHICAGO</td>\n",
       "      <td>2.0</td>\n",
       "      <td>NaN</td>\n",
       "      <td>423</td>\n",
       "      <td>0</td>\n",
       "      <td>0</td>\n",
       "      <td>0</td>\n",
       "    </tr>\n",
       "  </tbody>\n",
       "</table>\n",
       "</div>"
      ],
      "text/plain": [
       "     DateStop TimeStop  Duration     City  DriverRace  TypeOfMovingViolation  \\\n",
       "0  2021-01-01     0:33         5  CHICAGO         4.0                    NaN   \n",
       "1  2021-01-01     1:50         4  CHICAGO         2.0                    NaN   \n",
       "2  2021-01-01     8:50         4  CHICAGO         2.0                    NaN   \n",
       "3  2021-01-01    12:41         6  CHICAGO         2.0                    NaN   \n",
       "4  2021-01-01    13:51         5  CHICAGO         2.0                    NaN   \n",
       "\n",
       "   Beat  ContraFound  DrugsFound  WeaponFound  \n",
       "0  1234            0           0            0  \n",
       "1  1122            0           0            0  \n",
       "2   332            0           0            0  \n",
       "3  1121            0           0            0  \n",
       "4   423            0           0            0  "
      ]
     },
     "execution_count": 11,
     "metadata": {},
     "output_type": "execute_result"
    }
   ],
   "source": [
    "# View first 5 rows\n",
    "stops_df.head()"
   ]
  },
  {
   "cell_type": "code",
   "execution_count": 12,
   "id": "845dce1d",
   "metadata": {
    "scrolled": true
   },
   "outputs": [
    {
     "data": {
      "text/html": [
       "<div>\n",
       "<style scoped>\n",
       "    .dataframe tbody tr th:only-of-type {\n",
       "        vertical-align: middle;\n",
       "    }\n",
       "\n",
       "    .dataframe tbody tr th {\n",
       "        vertical-align: top;\n",
       "    }\n",
       "\n",
       "    .dataframe thead th {\n",
       "        text-align: right;\n",
       "    }\n",
       "</style>\n",
       "<table border=\"1\" class=\"dataframe\">\n",
       "  <thead>\n",
       "    <tr style=\"text-align: right;\">\n",
       "      <th></th>\n",
       "      <th>DateStop</th>\n",
       "      <th>TimeStop</th>\n",
       "      <th>Duration</th>\n",
       "      <th>City</th>\n",
       "      <th>DriverRace</th>\n",
       "      <th>TypeOfMovingViolation</th>\n",
       "      <th>Beat</th>\n",
       "      <th>ContraFound</th>\n",
       "      <th>DrugsFound</th>\n",
       "      <th>WeaponFound</th>\n",
       "    </tr>\n",
       "  </thead>\n",
       "  <tbody>\n",
       "    <tr>\n",
       "      <th>76277</th>\n",
       "      <td>2021-02-28</td>\n",
       "      <td>21:47</td>\n",
       "      <td>4</td>\n",
       "      <td>SAINT PAUL</td>\n",
       "      <td>2.0</td>\n",
       "      <td>NaN</td>\n",
       "      <td>1821</td>\n",
       "      <td>0</td>\n",
       "      <td>0</td>\n",
       "      <td>0</td>\n",
       "    </tr>\n",
       "    <tr>\n",
       "      <th>76278</th>\n",
       "      <td>2021-02-28</td>\n",
       "      <td>21:15</td>\n",
       "      <td>5</td>\n",
       "      <td>CHICAGO</td>\n",
       "      <td>2.0</td>\n",
       "      <td>NaN</td>\n",
       "      <td>331</td>\n",
       "      <td>0</td>\n",
       "      <td>0</td>\n",
       "      <td>0</td>\n",
       "    </tr>\n",
       "    <tr>\n",
       "      <th>76279</th>\n",
       "      <td>2021-02-28</td>\n",
       "      <td>21:15</td>\n",
       "      <td>4</td>\n",
       "      <td>CHICAGO</td>\n",
       "      <td>4.0</td>\n",
       "      <td>NaN</td>\n",
       "      <td>1033</td>\n",
       "      <td>0</td>\n",
       "      <td>0</td>\n",
       "      <td>0</td>\n",
       "    </tr>\n",
       "  </tbody>\n",
       "</table>\n",
       "</div>"
      ],
      "text/plain": [
       "         DateStop TimeStop  Duration        City  DriverRace  \\\n",
       "76277  2021-02-28    21:47         4  SAINT PAUL         2.0   \n",
       "76278  2021-02-28    21:15         5     CHICAGO         2.0   \n",
       "76279  2021-02-28    21:15         4     CHICAGO         4.0   \n",
       "\n",
       "       TypeOfMovingViolation  Beat  ContraFound  DrugsFound  WeaponFound  \n",
       "76277                    NaN  1821            0           0            0  \n",
       "76278                    NaN   331            0           0            0  \n",
       "76279                    NaN  1033            0           0            0  "
      ]
     },
     "execution_count": 12,
     "metadata": {},
     "output_type": "execute_result"
    }
   ],
   "source": [
    "# View last 3 rows\n",
    "stops_df.tail(3)"
   ]
  },
  {
   "cell_type": "markdown",
   "id": "6fdaa9d3",
   "metadata": {},
   "source": [
    "### Basic metadata"
   ]
  },
  {
   "cell_type": "markdown",
   "id": "330e91e5",
   "metadata": {},
   "source": [
    "Pandas enables us to access basic metadata (supplementary data that gives information about the main dataset) for its data structures by using some functions (also referred as attributes). The important ones that we are going to learn here are **shape**, **dtypes** and axis labels.\n",
    "\n",
    "**Shape** gives the axis dimensions of the data structure. For a DataFrame, it will give the number of rows and columns."
   ]
  },
  {
   "cell_type": "code",
   "execution_count": 13,
   "id": "220e0d4d",
   "metadata": {
    "scrolled": true
   },
   "outputs": [
    {
     "data": {
      "text/plain": [
       "(76280, 10)"
      ]
     },
     "execution_count": 13,
     "metadata": {},
     "output_type": "execute_result"
    }
   ],
   "source": [
    "stops_df.shape"
   ]
  },
  {
   "cell_type": "markdown",
   "id": "76878282",
   "metadata": {},
   "source": [
    "**dtypes** will give the data type for each column in a DataFrame. We are going to learn more about data types in the upcoming sections."
   ]
  },
  {
   "cell_type": "code",
   "execution_count": 14,
   "id": "470aae43",
   "metadata": {
    "scrolled": false
   },
   "outputs": [
    {
     "data": {
      "text/plain": [
       "DateStop                  object\n",
       "TimeStop                  object\n",
       "Duration                   int64\n",
       "City                      object\n",
       "DriverRace               float64\n",
       "TypeOfMovingViolation    float64\n",
       "Beat                       int64\n",
       "ContraFound                int64\n",
       "DrugsFound                 int64\n",
       "WeaponFound                int64\n",
       "dtype: object"
      ]
     },
     "execution_count": 14,
     "metadata": {},
     "output_type": "execute_result"
    }
   ],
   "source": [
    "stops_df.dtypes"
   ]
  },
  {
   "cell_type": "markdown",
   "id": "4450da2f",
   "metadata": {},
   "source": [
    "Pandas data structures have axis labels. We have seen that each element in a Series is labeled using an index. Whereas, a DataFrame has a set of labels for each row and another set for columns. We can access these labels for a DataFrame using `.index` and `.columns` attributes."
   ]
  },
  {
   "cell_type": "code",
   "execution_count": 15,
   "id": "3f8b9cc8",
   "metadata": {
    "scrolled": true
   },
   "outputs": [
    {
     "data": {
      "text/plain": [
       "Index(['DateStop', 'TimeStop', 'Duration', 'City', 'DriverRace',\n",
       "       'TypeOfMovingViolation', 'Beat', 'ContraFound', 'DrugsFound',\n",
       "       'WeaponFound'],\n",
       "      dtype='object')"
      ]
     },
     "execution_count": 15,
     "metadata": {},
     "output_type": "execute_result"
    }
   ],
   "source": [
    "stops_df.columns"
   ]
  },
  {
   "cell_type": "code",
   "execution_count": 16,
   "id": "090b3da2",
   "metadata": {
    "scrolled": true
   },
   "outputs": [
    {
     "data": {
      "text/plain": [
       "Int64Index([    0,     1,     2,     3,     4,     5,     6,     7,     8,\n",
       "                9,\n",
       "            ...\n",
       "            76270, 76271, 76272, 76273, 76274, 76275, 76276, 76277, 76278,\n",
       "            76279],\n",
       "           dtype='int64', length=76280)"
      ]
     },
     "execution_count": 16,
     "metadata": {},
     "output_type": "execute_result"
    }
   ],
   "source": [
    "stops_df.index"
   ]
  },
  {
   "cell_type": "markdown",
   "id": "a41a1f54",
   "metadata": {},
   "source": [
    "As you can notice, since there wasn't any index provided by the dataset, Pandas sets the default index to a range of integers from 0 to length of the DataFrame."
   ]
  },
  {
   "cell_type": "markdown",
   "id": "7dc60472",
   "metadata": {},
   "source": [
    "### Selecting and Subsetting"
   ]
  },
  {
   "cell_type": "markdown",
   "id": "67896360",
   "metadata": {},
   "source": [
    "Pandas offers a few ways that we can use to select a set of data. This includes selecting a cell, row, column or a subset of the entire dataframe. The 3 ways that we will go through include: selection using `[]`, `.loc` (label based indexing) and `.iloc` (position based indexing).\n",
    "\n",
    "Using `[]` is an archaic way of indexing which mimics the same way we would index dictionaries in Python. In Pandas, it will select the lower-dimension. For the Series below, we are using the row index to select a row below."
   ]
  },
  {
   "cell_type": "code",
   "execution_count": 17,
   "id": "60ae6645",
   "metadata": {
    "scrolled": true
   },
   "outputs": [
    {
     "data": {
      "text/plain": [
       "35"
      ]
     },
     "execution_count": 17,
     "metadata": {},
     "output_type": "execute_result"
    }
   ],
   "source": [
    "sample_series['Mercury']"
   ]
  },
  {
   "cell_type": "markdown",
   "id": "3c485b50",
   "metadata": {},
   "source": [
    "Similarly, we can use this notation to index a column in a DataFrame. This will result in a Series."
   ]
  },
  {
   "cell_type": "code",
   "execution_count": 18,
   "id": "fdefc18a",
   "metadata": {
    "scrolled": true
   },
   "outputs": [
    {
     "data": {
      "text/plain": [
       "2018    67\n",
       "2019    44\n",
       "2020     8\n",
       "Name: Chrome, dtype: int64"
      ]
     },
     "execution_count": 18,
     "metadata": {},
     "output_type": "execute_result"
    }
   ],
   "source": [
    "web_views['Chrome']"
   ]
  },
  {
   "cell_type": "markdown",
   "id": "6e821ed3",
   "metadata": {},
   "source": [
    "While you may still find the use of this notation for indexing DataFrames and Series, it can often result in errors and ambiguity. The purpose to bring it up here was to provide familiarity with this notation. Therefore, we will focus more on using `.loc` for selection as it is a powerful and explicit indexer. The format it follows is `.loc[row_indexer,col_indexer]`\n",
    "\n",
    "The integer below is the label for the index that will extract the row with index label 2."
   ]
  },
  {
   "cell_type": "code",
   "execution_count": 19,
   "id": "3090612a",
   "metadata": {
    "scrolled": false
   },
   "outputs": [
    {
     "data": {
      "text/plain": [
       "DateStop                 2021-01-01\n",
       "TimeStop                       8:50\n",
       "Duration                          4\n",
       "City                        CHICAGO\n",
       "DriverRace                      2.0\n",
       "TypeOfMovingViolation           NaN\n",
       "Beat                            332\n",
       "ContraFound                       0\n",
       "DrugsFound                        0\n",
       "WeaponFound                       0\n",
       "Name: 2, dtype: object"
      ]
     },
     "execution_count": 19,
     "metadata": {},
     "output_type": "execute_result"
    }
   ],
   "source": [
    "stops_df.loc[2]"
   ]
  },
  {
   "cell_type": "markdown",
   "id": "0fcf0441",
   "metadata": {},
   "source": [
    "We can also print out a set of rows using slices. `:2` refers to index in the the range 0 to 2, a shorthand for `0:2`. \n",
    "\n",
    "Note that the index labels are interger in this DataFrame. This method also works well with non-integer index. For eg. we can also use slicing for sting labels. In that case, pandas will return all the rows in between the rows whose labels are specified in the slice, including the specified rows as well."
   ]
  },
  {
   "cell_type": "code",
   "execution_count": 20,
   "id": "f77c81e3",
   "metadata": {
    "scrolled": true
   },
   "outputs": [
    {
     "data": {
      "text/html": [
       "<div>\n",
       "<style scoped>\n",
       "    .dataframe tbody tr th:only-of-type {\n",
       "        vertical-align: middle;\n",
       "    }\n",
       "\n",
       "    .dataframe tbody tr th {\n",
       "        vertical-align: top;\n",
       "    }\n",
       "\n",
       "    .dataframe thead th {\n",
       "        text-align: right;\n",
       "    }\n",
       "</style>\n",
       "<table border=\"1\" class=\"dataframe\">\n",
       "  <thead>\n",
       "    <tr style=\"text-align: right;\">\n",
       "      <th></th>\n",
       "      <th>DateStop</th>\n",
       "      <th>TimeStop</th>\n",
       "      <th>Duration</th>\n",
       "      <th>City</th>\n",
       "      <th>DriverRace</th>\n",
       "      <th>TypeOfMovingViolation</th>\n",
       "      <th>Beat</th>\n",
       "      <th>ContraFound</th>\n",
       "      <th>DrugsFound</th>\n",
       "      <th>WeaponFound</th>\n",
       "    </tr>\n",
       "  </thead>\n",
       "  <tbody>\n",
       "    <tr>\n",
       "      <th>0</th>\n",
       "      <td>2021-01-01</td>\n",
       "      <td>0:33</td>\n",
       "      <td>5</td>\n",
       "      <td>CHICAGO</td>\n",
       "      <td>4.0</td>\n",
       "      <td>NaN</td>\n",
       "      <td>1234</td>\n",
       "      <td>0</td>\n",
       "      <td>0</td>\n",
       "      <td>0</td>\n",
       "    </tr>\n",
       "    <tr>\n",
       "      <th>1</th>\n",
       "      <td>2021-01-01</td>\n",
       "      <td>1:50</td>\n",
       "      <td>4</td>\n",
       "      <td>CHICAGO</td>\n",
       "      <td>2.0</td>\n",
       "      <td>NaN</td>\n",
       "      <td>1122</td>\n",
       "      <td>0</td>\n",
       "      <td>0</td>\n",
       "      <td>0</td>\n",
       "    </tr>\n",
       "    <tr>\n",
       "      <th>2</th>\n",
       "      <td>2021-01-01</td>\n",
       "      <td>8:50</td>\n",
       "      <td>4</td>\n",
       "      <td>CHICAGO</td>\n",
       "      <td>2.0</td>\n",
       "      <td>NaN</td>\n",
       "      <td>332</td>\n",
       "      <td>0</td>\n",
       "      <td>0</td>\n",
       "      <td>0</td>\n",
       "    </tr>\n",
       "  </tbody>\n",
       "</table>\n",
       "</div>"
      ],
      "text/plain": [
       "     DateStop TimeStop  Duration     City  DriverRace  TypeOfMovingViolation  \\\n",
       "0  2021-01-01     0:33         5  CHICAGO         4.0                    NaN   \n",
       "1  2021-01-01     1:50         4  CHICAGO         2.0                    NaN   \n",
       "2  2021-01-01     8:50         4  CHICAGO         2.0                    NaN   \n",
       "\n",
       "   Beat  ContraFound  DrugsFound  WeaponFound  \n",
       "0  1234            0           0            0  \n",
       "1  1122            0           0            0  \n",
       "2   332            0           0            0  "
      ]
     },
     "execution_count": 20,
     "metadata": {},
     "output_type": "execute_result"
    }
   ],
   "source": [
    "stops_df.loc[:2]"
   ]
  },
  {
   "cell_type": "markdown",
   "id": "56557ada",
   "metadata": {},
   "source": [
    "Using the `.loc` selector, we can also select the second dimension (column for a DataFrame). In the cell below, we are selecting all rows and the 'City' column."
   ]
  },
  {
   "cell_type": "code",
   "execution_count": 21,
   "id": "cf417088",
   "metadata": {
    "scrolled": true
   },
   "outputs": [
    {
     "data": {
      "text/plain": [
       "0           CHICAGO\n",
       "1           CHICAGO\n",
       "2           CHICAGO\n",
       "3           CHICAGO\n",
       "4           CHICAGO\n",
       "            ...    \n",
       "76275       CHICAGO\n",
       "76276       CHICAGO\n",
       "76277    SAINT PAUL\n",
       "76278       CHICAGO\n",
       "76279       CHICAGO\n",
       "Name: City, Length: 76280, dtype: object"
      ]
     },
     "execution_count": 21,
     "metadata": {},
     "output_type": "execute_result"
    }
   ],
   "source": [
    "stops_df.loc[: ,'City']"
   ]
  },
  {
   "cell_type": "markdown",
   "id": "8fe3cb86",
   "metadata": {},
   "source": [
    "By specifying a single value in both the dimensions, we can select the specific cell as well."
   ]
  },
  {
   "cell_type": "code",
   "execution_count": 22,
   "id": "5c04a4ae",
   "metadata": {
    "scrolled": true
   },
   "outputs": [
    {
     "data": {
      "text/plain": [
       "'CHICAGO'"
      ]
     },
     "execution_count": 22,
     "metadata": {},
     "output_type": "execute_result"
    }
   ],
   "source": [
    "stops_df.loc[5 ,'City']"
   ]
  },
  {
   "cell_type": "markdown",
   "id": "e616895c",
   "metadata": {},
   "source": [
    "Or select a range of rows over multiple columns."
   ]
  },
  {
   "cell_type": "code",
   "execution_count": 23,
   "id": "8c46c818",
   "metadata": {
    "scrolled": true
   },
   "outputs": [
    {
     "data": {
      "text/html": [
       "<div>\n",
       "<style scoped>\n",
       "    .dataframe tbody tr th:only-of-type {\n",
       "        vertical-align: middle;\n",
       "    }\n",
       "\n",
       "    .dataframe tbody tr th {\n",
       "        vertical-align: top;\n",
       "    }\n",
       "\n",
       "    .dataframe thead th {\n",
       "        text-align: right;\n",
       "    }\n",
       "</style>\n",
       "<table border=\"1\" class=\"dataframe\">\n",
       "  <thead>\n",
       "    <tr style=\"text-align: right;\">\n",
       "      <th></th>\n",
       "      <th>City</th>\n",
       "      <th>DriverRace</th>\n",
       "    </tr>\n",
       "  </thead>\n",
       "  <tbody>\n",
       "    <tr>\n",
       "      <th>55</th>\n",
       "      <td>MAYWOOD</td>\n",
       "      <td>2.0</td>\n",
       "    </tr>\n",
       "    <tr>\n",
       "      <th>56</th>\n",
       "      <td>CHICAGO</td>\n",
       "      <td>2.0</td>\n",
       "    </tr>\n",
       "    <tr>\n",
       "      <th>57</th>\n",
       "      <td>CHICAGO</td>\n",
       "      <td>2.0</td>\n",
       "    </tr>\n",
       "    <tr>\n",
       "      <th>58</th>\n",
       "      <td>FORES PARK</td>\n",
       "      <td>2.0</td>\n",
       "    </tr>\n",
       "    <tr>\n",
       "      <th>59</th>\n",
       "      <td>BELVIDERE</td>\n",
       "      <td>2.0</td>\n",
       "    </tr>\n",
       "    <tr>\n",
       "      <th>60</th>\n",
       "      <td>CHICAGO</td>\n",
       "      <td>1.0</td>\n",
       "    </tr>\n",
       "  </tbody>\n",
       "</table>\n",
       "</div>"
      ],
      "text/plain": [
       "          City  DriverRace\n",
       "55    MAYWOOD          2.0\n",
       "56     CHICAGO         2.0\n",
       "57     CHICAGO         2.0\n",
       "58  FORES PARK         2.0\n",
       "59   BELVIDERE         2.0\n",
       "60     CHICAGO         1.0"
      ]
     },
     "execution_count": 23,
     "metadata": {},
     "output_type": "execute_result"
    }
   ],
   "source": [
    "stops_df.loc[55:60, ['City','DriverRace']]"
   ]
  },
  {
   "cell_type": "markdown",
   "id": "7baa797e",
   "metadata": {},
   "source": [
    "The selection can also be a list of indices rather than a range."
   ]
  },
  {
   "cell_type": "code",
   "execution_count": 24,
   "id": "7f28927f",
   "metadata": {
    "scrolled": true
   },
   "outputs": [
    {
     "data": {
      "text/html": [
       "<div>\n",
       "<style scoped>\n",
       "    .dataframe tbody tr th:only-of-type {\n",
       "        vertical-align: middle;\n",
       "    }\n",
       "\n",
       "    .dataframe tbody tr th {\n",
       "        vertical-align: top;\n",
       "    }\n",
       "\n",
       "    .dataframe thead th {\n",
       "        text-align: right;\n",
       "    }\n",
       "</style>\n",
       "<table border=\"1\" class=\"dataframe\">\n",
       "  <thead>\n",
       "    <tr style=\"text-align: right;\">\n",
       "      <th></th>\n",
       "      <th>City</th>\n",
       "      <th>DriverRace</th>\n",
       "    </tr>\n",
       "  </thead>\n",
       "  <tbody>\n",
       "    <tr>\n",
       "      <th>55</th>\n",
       "      <td>MAYWOOD</td>\n",
       "      <td>2.0</td>\n",
       "    </tr>\n",
       "    <tr>\n",
       "      <th>78</th>\n",
       "      <td>CHICAGO</td>\n",
       "      <td>4.0</td>\n",
       "    </tr>\n",
       "    <tr>\n",
       "      <th>903</th>\n",
       "      <td>CHICAGO</td>\n",
       "      <td>1.0</td>\n",
       "    </tr>\n",
       "  </tbody>\n",
       "</table>\n",
       "</div>"
      ],
      "text/plain": [
       "         City  DriverRace\n",
       "55   MAYWOOD          2.0\n",
       "78    CHICAGO         4.0\n",
       "903   CHICAGO         1.0"
      ]
     },
     "execution_count": 24,
     "metadata": {},
     "output_type": "execute_result"
    }
   ],
   "source": [
    "stops_df.loc[[55,78,903], ['City','DriverRace']]"
   ]
  },
  {
   "cell_type": "markdown",
   "id": "13caa644",
   "metadata": {},
   "source": [
    "Another useful approach that comes handy when performing data manipulation operations is selection using boolean operators. In the cell below, before the comparision operator, we are subsetting the DataFrame to return all rows in the 'Duration' column. We are then comparing the 'Duration' value and returning `True` if the value is strictly less than 5. This returns a boolean Series. "
   ]
  },
  {
   "cell_type": "code",
   "execution_count": 25,
   "id": "2c3c7a2f",
   "metadata": {
    "scrolled": true
   },
   "outputs": [
    {
     "data": {
      "text/plain": [
       "0        False\n",
       "1         True\n",
       "2         True\n",
       "3        False\n",
       "4        False\n",
       "         ...  \n",
       "76275    False\n",
       "76276     True\n",
       "76277     True\n",
       "76278    False\n",
       "76279     True\n",
       "Name: Duration, Length: 76280, dtype: bool"
      ]
     },
     "execution_count": 25,
     "metadata": {},
     "output_type": "execute_result"
    }
   ],
   "source": [
    "stops_df.loc[:, 'Duration'] < 5"
   ]
  },
  {
   "cell_type": "markdown",
   "id": "52376137",
   "metadata": {},
   "source": [
    "The above comparision operation can then be used to filter out rows that are True for the above case. In the cell below, we are using the same comparision operation to return cells from the entire DataFrame that have a stop duration of less than 5. Notice, we are then subsetting it to only provide City Names of rows that pass that condition."
   ]
  },
  {
   "cell_type": "code",
   "execution_count": 26,
   "id": "f55453e4",
   "metadata": {
    "scrolled": true
   },
   "outputs": [
    {
     "data": {
      "text/plain": [
       "1                 CHICAGO\n",
       "2                 CHICAGO\n",
       "5                 CHICAGO\n",
       "8        GLENDALE HEIGHTS\n",
       "9                 CHICAGO\n",
       "               ...       \n",
       "76270             CHICAGO\n",
       "76272             CHICAGO\n",
       "76276             CHICAGO\n",
       "76277          SAINT PAUL\n",
       "76279             CHICAGO\n",
       "Name: City, Length: 40558, dtype: object"
      ]
     },
     "execution_count": 26,
     "metadata": {},
     "output_type": "execute_result"
    }
   ],
   "source": [
    "stops_df.loc[stops_df.loc[:,'Duration'] < 5, 'City']"
   ]
  },
  {
   "cell_type": "markdown",
   "id": "7dd33542",
   "metadata": {},
   "source": [
    "Another form of selection that we introduced is Selection by Position using `.iloc`. This attribute is a form of indexing using integers that mark position of the cell. "
   ]
  },
  {
   "cell_type": "code",
   "execution_count": 27,
   "id": "a434af6a",
   "metadata": {
    "scrolled": false
   },
   "outputs": [
    {
     "data": {
      "text/plain": [
       "DateStop                       2021-01-01\n",
       "TimeStop                            17:26\n",
       "Duration                                2\n",
       "City                     GLENDALE HEIGHTS\n",
       "DriverRace                            5.0\n",
       "TypeOfMovingViolation                 6.0\n",
       "Beat                                 1824\n",
       "ContraFound                             0\n",
       "DrugsFound                              0\n",
       "WeaponFound                             0\n",
       "Name: 8, dtype: object"
      ]
     },
     "execution_count": 27,
     "metadata": {},
     "output_type": "execute_result"
    }
   ],
   "source": [
    "stops_df.iloc[8]"
   ]
  },
  {
   "cell_type": "markdown",
   "id": "428de410",
   "metadata": {},
   "source": [
    "In the case of this dataset, index labels are sorted integers which is the same as the index position as well, therefore, in this specific case, using either `.loc` or `.iloc` will return the same set of rows. However, since we have string labels for each column, we will have to provide integer values that mark the position of the column in the DataFrame. Providing column name or any non-integer value in `.iloc` will return an error.\n",
    "\n",
    "In the cell below, we are selecting rows 2 till 6, with 2 included, and selecting the 4th column ('Duration' is at position 4)."
   ]
  },
  {
   "cell_type": "code",
   "execution_count": 28,
   "id": "f7fcceba",
   "metadata": {
    "scrolled": true
   },
   "outputs": [
    {
     "data": {
      "text/plain": [
       "2    2.0\n",
       "3    2.0\n",
       "4    2.0\n",
       "5    2.0\n",
       "Name: DriverRace, dtype: float64"
      ]
     },
     "execution_count": 28,
     "metadata": {},
     "output_type": "execute_result"
    }
   ],
   "source": [
    "stops_df.iloc[2:6, 4]"
   ]
  },
  {
   "cell_type": "markdown",
   "id": "3e80bf28",
   "metadata": {},
   "source": [
    "We can also select a range for rows as well as for columns."
   ]
  },
  {
   "cell_type": "code",
   "execution_count": 29,
   "id": "2ccea34a",
   "metadata": {
    "scrolled": true
   },
   "outputs": [
    {
     "data": {
      "text/html": [
       "<div>\n",
       "<style scoped>\n",
       "    .dataframe tbody tr th:only-of-type {\n",
       "        vertical-align: middle;\n",
       "    }\n",
       "\n",
       "    .dataframe tbody tr th {\n",
       "        vertical-align: top;\n",
       "    }\n",
       "\n",
       "    .dataframe thead th {\n",
       "        text-align: right;\n",
       "    }\n",
       "</style>\n",
       "<table border=\"1\" class=\"dataframe\">\n",
       "  <thead>\n",
       "    <tr style=\"text-align: right;\">\n",
       "      <th></th>\n",
       "      <th>DriverRace</th>\n",
       "      <th>TypeOfMovingViolation</th>\n",
       "      <th>Beat</th>\n",
       "      <th>ContraFound</th>\n",
       "    </tr>\n",
       "  </thead>\n",
       "  <tbody>\n",
       "    <tr>\n",
       "      <th>2</th>\n",
       "      <td>2.0</td>\n",
       "      <td>NaN</td>\n",
       "      <td>332</td>\n",
       "      <td>0</td>\n",
       "    </tr>\n",
       "    <tr>\n",
       "      <th>3</th>\n",
       "      <td>2.0</td>\n",
       "      <td>NaN</td>\n",
       "      <td>1121</td>\n",
       "      <td>0</td>\n",
       "    </tr>\n",
       "    <tr>\n",
       "      <th>4</th>\n",
       "      <td>2.0</td>\n",
       "      <td>NaN</td>\n",
       "      <td>423</td>\n",
       "      <td>0</td>\n",
       "    </tr>\n",
       "    <tr>\n",
       "      <th>5</th>\n",
       "      <td>2.0</td>\n",
       "      <td>NaN</td>\n",
       "      <td>423</td>\n",
       "      <td>0</td>\n",
       "    </tr>\n",
       "  </tbody>\n",
       "</table>\n",
       "</div>"
      ],
      "text/plain": [
       "   DriverRace  TypeOfMovingViolation  Beat  ContraFound\n",
       "2         2.0                    NaN   332            0\n",
       "3         2.0                    NaN  1121            0\n",
       "4         2.0                    NaN   423            0\n",
       "5         2.0                    NaN   423            0"
      ]
     },
     "execution_count": 29,
     "metadata": {},
     "output_type": "execute_result"
    }
   ],
   "source": [
    "stops_df.iloc[2:6, 4:8]"
   ]
  },
  {
   "cell_type": "markdown",
   "id": "03abd589",
   "metadata": {},
   "source": [
    "**Note**: Out of range slice indexes are handled gracefully. It will not return an error but will return everything in the range apart from the out of range slices. If the entire slice index is out of range, Python will return empty list.\n"
   ]
  },
  {
   "cell_type": "markdown",
   "id": "b4aa1f8a",
   "metadata": {},
   "source": [
    "### Data types and conversion"
   ]
  },
  {
   "cell_type": "markdown",
   "id": "61c3d542",
   "metadata": {},
   "source": [
    "We saw above how the attribute `dtypes` provides us with the the data type for each column in a DataFrame. Pandas has a set of data types that it understands and manipulates. We will touch upon the most basic and common ones that you saw in the result returned from running the command `stops_df.dtypes`. In brief, they include:\n",
    "\n",
    "- integer: default integer types are int64 (called nullable integers too)\n",
    "- float: default float types are float64\n",
    "- boolean: stores boolean data (True/False) with missing values\n",
    "- date/time: stores dates in datetime64[ns] format\n",
    "- object:  holds any Python object, including strings\n",
    "- string: dedicated to strings\n",
    "- category: stores limited, fixed number of possible values\n",
    "\n",
    "We can print the data types for the stops DataFrame again and can see that by default, Pandas doesn't interpret all data types in the form that can be useful for us. For eg. DateStop and TimeStop are object types (stored as strings) and will prevent us from performing several temporal operations. (We will cover datetime in detail in the following section)\n",
    "\n",
    "Similarly, DriverRace and ReasonStop, which indicates the category of the Driver's Race and Reason for Stop, respectively, are not given the correct type. Since these categories are assigned float and integer, respectively, this can mislead our analytical process and any prediction we might want to make."
   ]
  },
  {
   "cell_type": "code",
   "execution_count": 30,
   "id": "c04d18df",
   "metadata": {
    "scrolled": true
   },
   "outputs": [
    {
     "data": {
      "text/plain": [
       "DateStop                  object\n",
       "TimeStop                  object\n",
       "Duration                   int64\n",
       "City                      object\n",
       "DriverRace               float64\n",
       "TypeOfMovingViolation    float64\n",
       "Beat                       int64\n",
       "ContraFound                int64\n",
       "DrugsFound                 int64\n",
       "WeaponFound                int64\n",
       "dtype: object"
      ]
     },
     "execution_count": 30,
     "metadata": {},
     "output_type": "execute_result"
    }
   ],
   "source": [
    "stops_df.dtypes"
   ]
  },
  {
   "cell_type": "markdown",
   "id": "d73992ba",
   "metadata": {},
   "source": [
    "The `astype` function enables us to convert data types to the desired ones. A convenient way of performing this operation is to pass a dictionary with the column name, whose type needs to be changed, as a key and the desired data type as value. We will then assign the returned result to the original DataFrame to replace it with these new changes."
   ]
  },
  {
   "cell_type": "code",
   "execution_count": 31,
   "id": "458402ee",
   "metadata": {
    "scrolled": false
   },
   "outputs": [],
   "source": [
    "stops_df = stops_df.astype({'DriverRace': 'category', \n",
    "                            'TypeOfMovingViolation':'category',\n",
    "                            'Beat':'category',\n",
    "                            'ContraFound':'category',\n",
    "                            'DrugsFound':'category',\n",
    "                            'WeaponFound':'category'})"
   ]
  },
  {
   "cell_type": "markdown",
   "id": "d5840999",
   "metadata": {},
   "source": [
    "Let's use `dtypes` to check the new assigned data types"
   ]
  },
  {
   "cell_type": "code",
   "execution_count": 32,
   "id": "63ccfa14",
   "metadata": {
    "scrolled": true
   },
   "outputs": [
    {
     "data": {
      "text/plain": [
       "DateStop                   object\n",
       "TimeStop                   object\n",
       "Duration                    int64\n",
       "City                       object\n",
       "DriverRace               category\n",
       "TypeOfMovingViolation    category\n",
       "Beat                     category\n",
       "ContraFound              category\n",
       "DrugsFound               category\n",
       "WeaponFound              category\n",
       "dtype: object"
      ]
     },
     "execution_count": 32,
     "metadata": {},
     "output_type": "execute_result"
    }
   ],
   "source": [
    "stops_df.dtypes"
   ]
  },
  {
   "cell_type": "markdown",
   "id": "8943374c",
   "metadata": {},
   "source": [
    "### Datetime in Pandas"
   ]
  },
  {
   "cell_type": "markdown",
   "id": "30ec2690",
   "metadata": {},
   "source": [
    "Temporal data (consisting of date and time stamps) is highly common in data analytics and can be processed to create useful features. Pandas offers the ability to work with time series information in various formats. This can enable us to perform several operations on datetime values such as sorting, predicting or categorizing data by certain time periods.\n",
    "\n",
    "A convenient format for date and time data that Pandas uses is datetime from Python's [datetime](https://docs.python.org/3/library/datetime.html) library. This provides the ability for manipulating dates and times. We will work with datetime.datetime type from this library, which is a combination of both date and time. Pandas will assign either datetime64[ns] or datetime64[ns, tz] data type to such a format.\n",
    "\n",
    "Series and DataFrame have extended data type support and functionality for datetime. In order to create this format from a Series or list consisting of timestamps in String or Object form (as is in the case of `stops_df` dataframe), we will use Pandas' `.to_datetime()` function. A single scalar value will be converted to Timestamp data type, whereas, in a Series, the Pandas object data type will convert to datetime64[ns]."
   ]
  },
  {
   "cell_type": "code",
   "execution_count": 33,
   "id": "97ca93c6",
   "metadata": {
    "scrolled": true
   },
   "outputs": [
    {
     "data": {
      "text/plain": [
       "Timestamp('2010-11-12 00:00:00')"
      ]
     },
     "execution_count": 33,
     "metadata": {},
     "output_type": "execute_result"
    }
   ],
   "source": [
    "# converting a single scalar value\n",
    "pd.to_datetime(\"2010/11/12\")"
   ]
  },
  {
   "cell_type": "markdown",
   "id": "27adb8fc",
   "metadata": {},
   "source": [
    "Using this function on the stops DataFrame will result in Pandas parsing it to datetime.datetime like format. You can notice the data type it gets converted into at the bottom of the output. "
   ]
  },
  {
   "cell_type": "code",
   "execution_count": 34,
   "id": "ec5cc339",
   "metadata": {
    "scrolled": true
   },
   "outputs": [
    {
     "data": {
      "text/plain": [
       "0       2021-01-01\n",
       "1       2021-01-01\n",
       "2       2021-01-01\n",
       "3       2021-01-01\n",
       "4       2021-01-01\n",
       "           ...    \n",
       "76275   2021-02-28\n",
       "76276   2021-02-28\n",
       "76277   2021-02-28\n",
       "76278   2021-02-28\n",
       "76279   2021-02-28\n",
       "Name: DateStop, Length: 76280, dtype: datetime64[ns]"
      ]
     },
     "execution_count": 34,
     "metadata": {},
     "output_type": "execute_result"
    }
   ],
   "source": [
    "pd.to_datetime(stops_df.loc[:,'DateStop'])"
   ]
  },
  {
   "cell_type": "markdown",
   "id": "0b8c6e3b",
   "metadata": {},
   "source": [
    "We will now assign it back to the original DataFrame. The `.to_datetime()` function also enables to pass a format argument to ensure specific parsing. This could also potentially speed up the conversion. You can find the format codes on this [link](https://docs.python.org/3/library/datetime.html#strftime-and-strptime-format-codes)."
   ]
  },
  {
   "cell_type": "code",
   "execution_count": 35,
   "id": "0a4c17e5",
   "metadata": {
    "scrolled": true
   },
   "outputs": [],
   "source": [
    "stops_df.loc[:,'DateStop'] = pd.to_datetime(stops_df.loc[:,'DateStop'], \n",
    "                                            format=\"%Y-%m-%d\")"
   ]
  },
  {
   "cell_type": "markdown",
   "id": "c79cba43",
   "metadata": {},
   "source": [
    "Every Timestamp has a set of time/date properties or temporal features that can be extracted.\n",
    "\n",
    "For a Series of type datetime, we can use the .dt accessor to extract these properties. This [table](https://pandas.pydata.org/docs/user_guide/timeseries.html#time-date-components) lists all the properties that can be accessed. We will use it to get the day of the week (to classify if the stop was on a weekend or a weekday). We will assign it to a new column in the DataFrame."
   ]
  },
  {
   "cell_type": "code",
   "execution_count": 36,
   "id": "149941ad",
   "metadata": {
    "scrolled": true
   },
   "outputs": [],
   "source": [
    "stops_df.loc[:,'Weekday'] = stops_df.loc[:,'DateStop'].dt.weekday"
   ]
  },
  {
   "cell_type": "markdown",
   "id": "772884ef",
   "metadata": {},
   "source": [
    "We will now see the values returned from the timestamp in DATESTOP column for some randomly selected rows."
   ]
  },
  {
   "cell_type": "code",
   "execution_count": 37,
   "id": "ee423915",
   "metadata": {
    "scrolled": true
   },
   "outputs": [
    {
     "data": {
      "text/html": [
       "<div>\n",
       "<style scoped>\n",
       "    .dataframe tbody tr th:only-of-type {\n",
       "        vertical-align: middle;\n",
       "    }\n",
       "\n",
       "    .dataframe tbody tr th {\n",
       "        vertical-align: top;\n",
       "    }\n",
       "\n",
       "    .dataframe thead th {\n",
       "        text-align: right;\n",
       "    }\n",
       "</style>\n",
       "<table border=\"1\" class=\"dataframe\">\n",
       "  <thead>\n",
       "    <tr style=\"text-align: right;\">\n",
       "      <th></th>\n",
       "      <th>DateStop</th>\n",
       "      <th>Weekday</th>\n",
       "    </tr>\n",
       "  </thead>\n",
       "  <tbody>\n",
       "    <tr>\n",
       "      <th>1</th>\n",
       "      <td>2021-01-01</td>\n",
       "      <td>4</td>\n",
       "    </tr>\n",
       "    <tr>\n",
       "      <th>44</th>\n",
       "      <td>2021-01-01</td>\n",
       "      <td>4</td>\n",
       "    </tr>\n",
       "    <tr>\n",
       "      <th>5400</th>\n",
       "      <td>2021-02-06</td>\n",
       "      <td>5</td>\n",
       "    </tr>\n",
       "    <tr>\n",
       "      <th>10434</th>\n",
       "      <td>2021-01-05</td>\n",
       "      <td>1</td>\n",
       "    </tr>\n",
       "    <tr>\n",
       "      <th>55400</th>\n",
       "      <td>2021-02-20</td>\n",
       "      <td>5</td>\n",
       "    </tr>\n",
       "  </tbody>\n",
       "</table>\n",
       "</div>"
      ],
      "text/plain": [
       "        DateStop  Weekday\n",
       "1     2021-01-01        4\n",
       "44    2021-01-01        4\n",
       "5400  2021-02-06        5\n",
       "10434 2021-01-05        1\n",
       "55400 2021-02-20        5"
      ]
     },
     "execution_count": 37,
     "metadata": {},
     "output_type": "execute_result"
    }
   ],
   "source": [
    "stops_df.loc[[1,44,5400,10434,55400], ['DateStop','Weekday']]"
   ]
  },
  {
   "cell_type": "markdown",
   "id": "acadc0b4",
   "metadata": {},
   "source": [
    "Similarly, we can convert the TimeStop variable's 'object' data type to datetime type. The `.to_datetime()` function will also prefix a specific date to it since this column doesn't contain one. We will extract the time out from it using the `.dt` accessor. We will also use this accessor to create hour of the day variable."
   ]
  },
  {
   "cell_type": "code",
   "execution_count": 38,
   "id": "dd966892",
   "metadata": {
    "scrolled": true
   },
   "outputs": [
    {
     "data": {
      "text/plain": [
       "0       1900-01-01 00:33:00\n",
       "1       1900-01-01 01:50:00\n",
       "2       1900-01-01 08:50:00\n",
       "3       1900-01-01 12:41:00\n",
       "4       1900-01-01 13:51:00\n",
       "                ...        \n",
       "76275   1900-01-01 20:34:00\n",
       "76276   1900-01-01 20:06:00\n",
       "76277   1900-01-01 21:47:00\n",
       "76278   1900-01-01 21:15:00\n",
       "76279   1900-01-01 21:15:00\n",
       "Name: TimeStop, Length: 76280, dtype: datetime64[ns]"
      ]
     },
     "execution_count": 38,
     "metadata": {},
     "output_type": "execute_result"
    }
   ],
   "source": [
    "pd.to_datetime(stops_df.loc[:,'TimeStop'], format=\"%H:%M\")"
   ]
  },
  {
   "cell_type": "code",
   "execution_count": 39,
   "id": "d1192739",
   "metadata": {
    "scrolled": true
   },
   "outputs": [],
   "source": [
    "stops_df.loc[:, 'Time'] = pd.to_datetime(stops_df.loc[:, 'TimeStop'], format=\"%H:%M\").dt.time\n",
    "stops_df.loc[:, 'Hour'] = pd.to_datetime(stops_df.loc[:, 'TimeStop'], format=\"%H:%M\").dt.hour"
   ]
  },
  {
   "cell_type": "markdown",
   "id": "61fc300b",
   "metadata": {},
   "source": [
    "We will print the first 5 rows to see if the hour corresponds with the time."
   ]
  },
  {
   "cell_type": "code",
   "execution_count": 40,
   "id": "e3a1cf56",
   "metadata": {
    "scrolled": true
   },
   "outputs": [
    {
     "data": {
      "text/html": [
       "<div>\n",
       "<style scoped>\n",
       "    .dataframe tbody tr th:only-of-type {\n",
       "        vertical-align: middle;\n",
       "    }\n",
       "\n",
       "    .dataframe tbody tr th {\n",
       "        vertical-align: top;\n",
       "    }\n",
       "\n",
       "    .dataframe thead th {\n",
       "        text-align: right;\n",
       "    }\n",
       "</style>\n",
       "<table border=\"1\" class=\"dataframe\">\n",
       "  <thead>\n",
       "    <tr style=\"text-align: right;\">\n",
       "      <th></th>\n",
       "      <th>Time</th>\n",
       "      <th>Hour</th>\n",
       "    </tr>\n",
       "  </thead>\n",
       "  <tbody>\n",
       "    <tr>\n",
       "      <th>0</th>\n",
       "      <td>00:33:00</td>\n",
       "      <td>0</td>\n",
       "    </tr>\n",
       "    <tr>\n",
       "      <th>1</th>\n",
       "      <td>01:50:00</td>\n",
       "      <td>1</td>\n",
       "    </tr>\n",
       "    <tr>\n",
       "      <th>2</th>\n",
       "      <td>08:50:00</td>\n",
       "      <td>8</td>\n",
       "    </tr>\n",
       "    <tr>\n",
       "      <th>3</th>\n",
       "      <td>12:41:00</td>\n",
       "      <td>12</td>\n",
       "    </tr>\n",
       "    <tr>\n",
       "      <th>4</th>\n",
       "      <td>13:51:00</td>\n",
       "      <td>13</td>\n",
       "    </tr>\n",
       "    <tr>\n",
       "      <th>5</th>\n",
       "      <td>13:48:00</td>\n",
       "      <td>13</td>\n",
       "    </tr>\n",
       "  </tbody>\n",
       "</table>\n",
       "</div>"
      ],
      "text/plain": [
       "       Time  Hour\n",
       "0  00:33:00     0\n",
       "1  01:50:00     1\n",
       "2  08:50:00     8\n",
       "3  12:41:00    12\n",
       "4  13:51:00    13\n",
       "5  13:48:00    13"
      ]
     },
     "execution_count": 40,
     "metadata": {},
     "output_type": "execute_result"
    }
   ],
   "source": [
    "stops_df.loc[:5, ['Time','Hour']]"
   ]
  },
  {
   "cell_type": "markdown",
   "id": "6258041a",
   "metadata": {},
   "source": [
    "### Missing Values"
   ]
  },
  {
   "cell_type": "markdown",
   "id": "91fc75f8",
   "metadata": {},
   "source": [
    "Dealing with missing values is a major component of the data cleaning process. Fortunately, Pandas has a set of markers and methods to help us do that. Primarily, Pandas uses NaN as the default missing value marker and this can be used as a marker for different data types.\n",
    "\n",
    "Pandas offers a set of methods to detect, fill or replace NaN values. Moreover, NaNs can also be ignored in Pandas function by specifying to ignore NaNs in the function arguments, if possible. Therefore, it is handy to convert any value indicating a missing value to a NaN.\n",
    "\n",
    "In order to check for NaN in a DataFrame or Series, we can use `.isna()` or `.notna()` attribute."
   ]
  },
  {
   "cell_type": "code",
   "execution_count": 41,
   "id": "e931d580",
   "metadata": {
    "scrolled": true
   },
   "outputs": [
    {
     "data": {
      "text/html": [
       "<div>\n",
       "<style scoped>\n",
       "    .dataframe tbody tr th:only-of-type {\n",
       "        vertical-align: middle;\n",
       "    }\n",
       "\n",
       "    .dataframe tbody tr th {\n",
       "        vertical-align: top;\n",
       "    }\n",
       "\n",
       "    .dataframe thead th {\n",
       "        text-align: right;\n",
       "    }\n",
       "</style>\n",
       "<table border=\"1\" class=\"dataframe\">\n",
       "  <thead>\n",
       "    <tr style=\"text-align: right;\">\n",
       "      <th></th>\n",
       "      <th>DateStop</th>\n",
       "      <th>TimeStop</th>\n",
       "      <th>Duration</th>\n",
       "      <th>City</th>\n",
       "      <th>DriverRace</th>\n",
       "      <th>TypeOfMovingViolation</th>\n",
       "      <th>Beat</th>\n",
       "      <th>ContraFound</th>\n",
       "      <th>DrugsFound</th>\n",
       "      <th>WeaponFound</th>\n",
       "      <th>Weekday</th>\n",
       "      <th>Time</th>\n",
       "      <th>Hour</th>\n",
       "    </tr>\n",
       "  </thead>\n",
       "  <tbody>\n",
       "    <tr>\n",
       "      <th>0</th>\n",
       "      <td>False</td>\n",
       "      <td>False</td>\n",
       "      <td>False</td>\n",
       "      <td>False</td>\n",
       "      <td>False</td>\n",
       "      <td>True</td>\n",
       "      <td>False</td>\n",
       "      <td>False</td>\n",
       "      <td>False</td>\n",
       "      <td>False</td>\n",
       "      <td>False</td>\n",
       "      <td>False</td>\n",
       "      <td>False</td>\n",
       "    </tr>\n",
       "    <tr>\n",
       "      <th>1</th>\n",
       "      <td>False</td>\n",
       "      <td>False</td>\n",
       "      <td>False</td>\n",
       "      <td>False</td>\n",
       "      <td>False</td>\n",
       "      <td>True</td>\n",
       "      <td>False</td>\n",
       "      <td>False</td>\n",
       "      <td>False</td>\n",
       "      <td>False</td>\n",
       "      <td>False</td>\n",
       "      <td>False</td>\n",
       "      <td>False</td>\n",
       "    </tr>\n",
       "    <tr>\n",
       "      <th>2</th>\n",
       "      <td>False</td>\n",
       "      <td>False</td>\n",
       "      <td>False</td>\n",
       "      <td>False</td>\n",
       "      <td>False</td>\n",
       "      <td>True</td>\n",
       "      <td>False</td>\n",
       "      <td>False</td>\n",
       "      <td>False</td>\n",
       "      <td>False</td>\n",
       "      <td>False</td>\n",
       "      <td>False</td>\n",
       "      <td>False</td>\n",
       "    </tr>\n",
       "    <tr>\n",
       "      <th>3</th>\n",
       "      <td>False</td>\n",
       "      <td>False</td>\n",
       "      <td>False</td>\n",
       "      <td>False</td>\n",
       "      <td>False</td>\n",
       "      <td>True</td>\n",
       "      <td>False</td>\n",
       "      <td>False</td>\n",
       "      <td>False</td>\n",
       "      <td>False</td>\n",
       "      <td>False</td>\n",
       "      <td>False</td>\n",
       "      <td>False</td>\n",
       "    </tr>\n",
       "    <tr>\n",
       "      <th>4</th>\n",
       "      <td>False</td>\n",
       "      <td>False</td>\n",
       "      <td>False</td>\n",
       "      <td>False</td>\n",
       "      <td>False</td>\n",
       "      <td>True</td>\n",
       "      <td>False</td>\n",
       "      <td>False</td>\n",
       "      <td>False</td>\n",
       "      <td>False</td>\n",
       "      <td>False</td>\n",
       "      <td>False</td>\n",
       "      <td>False</td>\n",
       "    </tr>\n",
       "  </tbody>\n",
       "</table>\n",
       "</div>"
      ],
      "text/plain": [
       "   DateStop  TimeStop  Duration   City  DriverRace  TypeOfMovingViolation  \\\n",
       "0     False     False     False  False       False                   True   \n",
       "1     False     False     False  False       False                   True   \n",
       "2     False     False     False  False       False                   True   \n",
       "3     False     False     False  False       False                   True   \n",
       "4     False     False     False  False       False                   True   \n",
       "\n",
       "    Beat  ContraFound  DrugsFound  WeaponFound  Weekday   Time   Hour  \n",
       "0  False        False       False        False    False  False  False  \n",
       "1  False        False       False        False    False  False  False  \n",
       "2  False        False       False        False    False  False  False  \n",
       "3  False        False       False        False    False  False  False  \n",
       "4  False        False       False        False    False  False  False  "
      ]
     },
     "execution_count": 41,
     "metadata": {},
     "output_type": "execute_result"
    }
   ],
   "source": [
    "stops_df.isna().head()"
   ]
  },
  {
   "cell_type": "markdown",
   "id": "5f611f4e",
   "metadata": {},
   "source": [
    "Using `.notna()` will reverse the results. As you can notice above, we can find missing values in the column 'TypeOfMovingViolation' just by having a slight glimpse over the Dataframe. In order to count the total missing values in all columns, we can suffix it with a method `.sum()` which adds all cells where value is True (where each True is 1)."
   ]
  },
  {
   "cell_type": "code",
   "execution_count": 42,
   "id": "91109339",
   "metadata": {
    "scrolled": true
   },
   "outputs": [
    {
     "data": {
      "text/plain": [
       "DateStop                     0\n",
       "TimeStop                     0\n",
       "Duration                     0\n",
       "City                         0\n",
       "DriverRace                   3\n",
       "TypeOfMovingViolation    53326\n",
       "Beat                         0\n",
       "ContraFound                  0\n",
       "DrugsFound                   0\n",
       "WeaponFound                  0\n",
       "Weekday                      0\n",
       "Time                         0\n",
       "Hour                         0\n",
       "dtype: int64"
      ]
     },
     "execution_count": 42,
     "metadata": {},
     "output_type": "execute_result"
    }
   ],
   "source": [
    "stops_df.isna().sum()"
   ]
  },
  {
   "cell_type": "markdown",
   "id": "c4ddbe96",
   "metadata": {},
   "source": [
    "One of the ways to deal with these missing values is to fill in the NaNs with a scaler value using `.fillna()`. Here, the method accepts the value to be replaced. The inplace argument, when set to True, applies the changes to the DataFrame.\n",
    "\n",
    "However, for the case of any column or Series with dtype 'category', we need to make sure that the value we are replacing with is part of the category list. Therefore, before we fill the missing value using `.fillna()`, we will add the value to the category list of the column using `.cat.add_categoires()`."
   ]
  },
  {
   "cell_type": "code",
   "execution_count": 43,
   "id": "cd05b651",
   "metadata": {
    "scrolled": true
   },
   "outputs": [],
   "source": [
    "stops_df.loc[:,'TypeOfMovingViolation'] = \\\n",
    "stops_df.loc[:, 'TypeOfMovingViolation'].cat.add_categories(0.0)\n",
    "\n",
    "stops_df.loc[:, 'TypeOfMovingViolation'].fillna(0.0, inplace = True)"
   ]
  },
  {
   "cell_type": "markdown",
   "id": "25cdeb40",
   "metadata": {},
   "source": [
    "Another way is to simply exclude rows or columns from a dataset that might contain missing values. We need to be very careful when deciding to use this approach since we might lose critical data or reduce the data size.\n",
    "\n",
    "In case we plan to, `dropna()` will do the job for us. By specifying the axis in the argument (either 'index' or 'columns'), the specified axis containing atleast one NaN will be removed.\n",
    "\n",
    "We will use it below to remove the rows where the Driver's Race is missing since that is the key component for our analysis. We specify the column name as the subset argument to only remove rows where 'DriveRace' is missing."
   ]
  },
  {
   "cell_type": "code",
   "execution_count": 44,
   "id": "c46aec76",
   "metadata": {
    "scrolled": true
   },
   "outputs": [],
   "source": [
    "stops_df.dropna(axis='index', \n",
    "                subset=['DriverRace'], \n",
    "                inplace=True)"
   ]
  },
  {
   "cell_type": "markdown",
   "id": "352c3312",
   "metadata": {},
   "source": [
    "### Mapping/Replacing values and labels"
   ]
  },
  {
   "cell_type": "markdown",
   "id": "363838df",
   "metadata": {},
   "source": [
    "Data cleaning process usuallly requires replacing vague, misspelled or missing values with correct ones. It also requires structuring the index and column labels properly in order to make it easier for analysis.\n",
    "\n",
    "In order to rename index labels or columns, the rename method is very useful. By mapping the existing value to a new one, we can replace the column name. In the method below, the existing column name is provided as they key of a dictionary and the new column name as the value."
   ]
  },
  {
   "cell_type": "code",
   "execution_count": 45,
   "id": "af32dda4",
   "metadata": {
    "scrolled": true
   },
   "outputs": [],
   "source": [
    "stops_df.rename(columns={\"Beat\": \"BeatCode\"}, \n",
    "                inplace= True)"
   ]
  },
  {
   "cell_type": "markdown",
   "id": "ca5896d0",
   "metadata": {},
   "source": [
    "We can also drop columns and rows that are not needed. The drop function will remove column or row that is specified in arguments. To drop rows using their index, you can replace 'columns' with 'index' and pass it a single index name or a list of them."
   ]
  },
  {
   "cell_type": "code",
   "execution_count": 46,
   "id": "e08caa62",
   "metadata": {
    "scrolled": true
   },
   "outputs": [],
   "source": [
    "stops_df.drop(columns='TimeStop', inplace=True)"
   ]
  },
  {
   "cell_type": "markdown",
   "id": "7a3ba765",
   "metadata": {},
   "source": [
    "The columns attribute will enable us to verify the changes made."
   ]
  },
  {
   "cell_type": "code",
   "execution_count": 47,
   "id": "4e8ccf21",
   "metadata": {
    "scrolled": true
   },
   "outputs": [
    {
     "data": {
      "text/plain": [
       "Index(['DateStop', 'Duration', 'City', 'DriverRace', 'TypeOfMovingViolation',\n",
       "       'BeatCode', 'ContraFound', 'DrugsFound', 'WeaponFound', 'Weekday',\n",
       "       'Time', 'Hour'],\n",
       "      dtype='object')"
      ]
     },
     "execution_count": 47,
     "metadata": {},
     "output_type": "execute_result"
    }
   ],
   "source": [
    "stops_df.columns"
   ]
  },
  {
   "cell_type": "markdown",
   "id": "d463bf23",
   "metadata": {},
   "source": [
    "To change any cell's value, we can use `.loc()` and `.iloc` as shown below. "
   ]
  },
  {
   "cell_type": "code",
   "execution_count": 48,
   "id": "3d73d8ff",
   "metadata": {
    "scrolled": true
   },
   "outputs": [],
   "source": [
    "stops_df.loc[230, 'City'] = 'Chicago'"
   ]
  },
  {
   "cell_type": "markdown",
   "id": "9a70f579",
   "metadata": {},
   "source": [
    "However, value replacement, particularly for data cleaning purposes, is usually applied on a set of values combined. For such purposes, Pandas provides the map method that maps value in a Series (or a column in a DataFrame) to a given set of values. \n",
    "\n",
    "In the cell below, we are using the map method to convert the categorical values of race in numerical form to the actual race title in string as provided in the data dictionary. Note that we are using a dictionary where the key is the existing value and the value is the new string we want to replace it with. Providing a dictionary for mapping is the most convenient way, however, map method takes other forms of inputs too."
   ]
  },
  {
   "cell_type": "code",
   "execution_count": 49,
   "id": "d7e6954c",
   "metadata": {
    "scrolled": true
   },
   "outputs": [],
   "source": [
    "stops_df.loc[:, 'DriverRace'] = stops_df.loc[:, 'DriverRace'].map({\n",
    "    1.0: 'White',\n",
    "    2.0: 'Black or African American',\n",
    "    3.0: 'American Indian or Alaska Native',\n",
    "    4.0: 'Hispanic or Latino',\n",
    "    5.0: 'Asian',\n",
    "    6.0: 'Native Hawaiian or Other Pacific Islander',\n",
    "})"
   ]
  },
  {
   "cell_type": "markdown",
   "id": "990e5dfa",
   "metadata": {},
   "source": [
    "Similarly, we will map the numeric values in column 'TypeOfMovingViolation' to its respective category."
   ]
  },
  {
   "cell_type": "code",
   "execution_count": 50,
   "id": "5aeea7d4",
   "metadata": {
    "scrolled": true
   },
   "outputs": [],
   "source": [
    "stops_df.loc[:, 'TypeOfMovingViolation'] = stops_df.loc[:, 'TypeOfMovingViolation'].map({\n",
    "    0.0: 'No Violation',\n",
    "    1.0: 'Speed',\n",
    "    2.0: 'Lane Violation',\n",
    "    3.0: 'Seat Belt',\n",
    "    4.0: 'Traffic Sign or Signal',\n",
    "    5.0: 'Follow too close',\n",
    "    6.0: 'Other',\n",
    "})"
   ]
  },
  {
   "cell_type": "markdown",
   "id": "0d0a2c8e",
   "metadata": {},
   "source": [
    "We will also map the categories in other categorical variables for to simplify the analysis ahead."
   ]
  },
  {
   "cell_type": "code",
   "execution_count": 51,
   "id": "cc512b31",
   "metadata": {
    "scrolled": true
   },
   "outputs": [],
   "source": [
    "stops_df.loc[:, 'ContraFound'] = stops_df.loc[:, 'ContraFound'].map({\n",
    "    0.0: 'NA',\n",
    "    1.0: 'Yes',\n",
    "    2.0: 'No'\n",
    "})\n",
    "\n",
    "stops_df.loc[:, 'DrugsFound'] = stops_df.loc[:, 'DrugsFound'].map({\n",
    "    0.0: 'NA',\n",
    "    1.0: 'Yes',\n",
    "    2.0: 'No'\n",
    "})\n",
    "\n",
    "stops_df.loc[:, 'WeaponFound'] = stops_df.loc[:, 'WeaponFound'].map({\n",
    "    0.0: 'NA',\n",
    "    1.0: 'Yes',\n",
    "    2.0: 'No'\n",
    "})"
   ]
  },
  {
   "cell_type": "markdown",
   "id": "e2822b20",
   "metadata": {},
   "source": [
    "**Note**: For storage purposes, it isn't optimal to fill in categorical data types with a long string. Therefore, categories are usually mapped to a single character to save space."
   ]
  },
  {
   "cell_type": "markdown",
   "id": "7a267843",
   "metadata": {},
   "source": [
    "### Statistics"
   ]
  },
  {
   "cell_type": "markdown",
   "id": "4184c6a6",
   "metadata": {},
   "source": [
    "In the exploratory process, it is essential to have an understanding of the distribution of data and its summary statistics. Pandas offers a set of methods that provide this information and additionally, enable us to visualize it.\n",
    "\n",
    "A few ways to do this includes using `mean()` and `median()` method to get these summary statistics for a DataFrame or a Series. See the cells below:"
   ]
  },
  {
   "cell_type": "code",
   "execution_count": 52,
   "id": "4067d239",
   "metadata": {
    "scrolled": true
   },
   "outputs": [
    {
     "data": {
      "text/plain": [
       "7.579952016990705"
      ]
     },
     "execution_count": 52,
     "metadata": {},
     "output_type": "execute_result"
    }
   ],
   "source": [
    "stops_df.loc[:,'Duration'].mean()"
   ]
  },
  {
   "cell_type": "code",
   "execution_count": 53,
   "id": "2ea823c6",
   "metadata": {
    "scrolled": true
   },
   "outputs": [
    {
     "data": {
      "text/plain": [
       "4.0"
      ]
     },
     "execution_count": 53,
     "metadata": {},
     "output_type": "execute_result"
    }
   ],
   "source": [
    "stops_df.loc[:,'Duration'].median()"
   ]
  },
  {
   "cell_type": "markdown",
   "id": "859b69dc",
   "metadata": {},
   "source": [
    "We got the mean and median duration for all Traffic stops. Depending on the data type, we can gather more of such stats to assist us with our analysis. We can also use the `.describe()` method to provide us with a quick way to see essential summary stats for each column. Notice, that summary stats are only given for numeric columns, therefore, we do not see summary stats for any column with datetime, categorical or object type.\n",
    "\n",
    "You can also notice that columns that were supposed to have categorical types and were picked up as integer or float data type, got statistical values that are not relevant. For eg. Weekday has mean and percentiles. Therefore, this emphasizes on the relevance of converting such columns to categorical data types."
   ]
  },
  {
   "cell_type": "code",
   "execution_count": 54,
   "id": "7614d81a",
   "metadata": {
    "scrolled": true
   },
   "outputs": [
    {
     "data": {
      "text/html": [
       "<div>\n",
       "<style scoped>\n",
       "    .dataframe tbody tr th:only-of-type {\n",
       "        vertical-align: middle;\n",
       "    }\n",
       "\n",
       "    .dataframe tbody tr th {\n",
       "        vertical-align: top;\n",
       "    }\n",
       "\n",
       "    .dataframe thead th {\n",
       "        text-align: right;\n",
       "    }\n",
       "</style>\n",
       "<table border=\"1\" class=\"dataframe\">\n",
       "  <thead>\n",
       "    <tr style=\"text-align: right;\">\n",
       "      <th></th>\n",
       "      <th>Duration</th>\n",
       "      <th>Weekday</th>\n",
       "      <th>Hour</th>\n",
       "    </tr>\n",
       "  </thead>\n",
       "  <tbody>\n",
       "    <tr>\n",
       "      <th>count</th>\n",
       "      <td>76277.000000</td>\n",
       "      <td>76277.000000</td>\n",
       "      <td>76277.000000</td>\n",
       "    </tr>\n",
       "    <tr>\n",
       "      <th>mean</th>\n",
       "      <td>7.579952</td>\n",
       "      <td>3.116064</td>\n",
       "      <td>15.491131</td>\n",
       "    </tr>\n",
       "    <tr>\n",
       "      <th>std</th>\n",
       "      <td>26.182170</td>\n",
       "      <td>1.958205</td>\n",
       "      <td>6.098630</td>\n",
       "    </tr>\n",
       "    <tr>\n",
       "      <th>min</th>\n",
       "      <td>0.000000</td>\n",
       "      <td>0.000000</td>\n",
       "      <td>0.000000</td>\n",
       "    </tr>\n",
       "    <tr>\n",
       "      <th>25%</th>\n",
       "      <td>3.000000</td>\n",
       "      <td>1.000000</td>\n",
       "      <td>11.000000</td>\n",
       "    </tr>\n",
       "    <tr>\n",
       "      <th>50%</th>\n",
       "      <td>4.000000</td>\n",
       "      <td>3.000000</td>\n",
       "      <td>17.000000</td>\n",
       "    </tr>\n",
       "    <tr>\n",
       "      <th>75%</th>\n",
       "      <td>6.000000</td>\n",
       "      <td>5.000000</td>\n",
       "      <td>20.000000</td>\n",
       "    </tr>\n",
       "    <tr>\n",
       "      <th>max</th>\n",
       "      <td>719.000000</td>\n",
       "      <td>6.000000</td>\n",
       "      <td>23.000000</td>\n",
       "    </tr>\n",
       "  </tbody>\n",
       "</table>\n",
       "</div>"
      ],
      "text/plain": [
       "           Duration       Weekday          Hour\n",
       "count  76277.000000  76277.000000  76277.000000\n",
       "mean       7.579952      3.116064     15.491131\n",
       "std       26.182170      1.958205      6.098630\n",
       "min        0.000000      0.000000      0.000000\n",
       "25%        3.000000      1.000000     11.000000\n",
       "50%        4.000000      3.000000     17.000000\n",
       "75%        6.000000      5.000000     20.000000\n",
       "max      719.000000      6.000000     23.000000"
      ]
     },
     "execution_count": 54,
     "metadata": {},
     "output_type": "execute_result"
    }
   ],
   "source": [
    "stops_df.describe()"
   ]
  },
  {
   "cell_type": "markdown",
   "id": "f3d785f2",
   "metadata": {},
   "source": [
    "The result above displays some simple statistical estimates including mean, count, maximum and minimum value, standard deviation (std) and quartiles for each column. Let's convert Weekday and Hour to categorical variables as required."
   ]
  },
  {
   "cell_type": "code",
   "execution_count": 55,
   "id": "48b6fc5a",
   "metadata": {
    "scrolled": true
   },
   "outputs": [],
   "source": [
    "stops_df = stops_df.astype({'Weekday': 'category', \n",
    "                            'Hour':'category'})"
   ]
  },
  {
   "cell_type": "markdown",
   "id": "fccd46f9",
   "metadata": {},
   "source": [
    "Other significant attributes that give useful information include `value_counts()` which provides count of unique values in a series. We can use it to see the number of stops on each day of the week.<br><br>Note: Pandas weekday attribute maps Monday to 0 and Sunday to 6"
   ]
  },
  {
   "cell_type": "code",
   "execution_count": 56,
   "id": "ece06eda",
   "metadata": {
    "scrolled": true
   },
   "outputs": [
    {
     "data": {
      "text/plain": [
       "4    12198\n",
       "5    11944\n",
       "3    10899\n",
       "6    10780\n",
       "2    10695\n",
       "1    10405\n",
       "0     9356\n",
       "Name: Weekday, dtype: int64"
      ]
     },
     "execution_count": 56,
     "metadata": {},
     "output_type": "execute_result"
    }
   ],
   "source": [
    "stops_df.loc[:,'Weekday'].value_counts()"
   ]
  },
  {
   "cell_type": "markdown",
   "id": "555d2399",
   "metadata": {},
   "source": [
    "### Pointers and Object References"
   ]
  },
  {
   "cell_type": "markdown",
   "id": "285b6729",
   "metadata": {},
   "source": [
    "It is important to know how Pandas objects are treated, especially when they are passed to functions or when changes are made to them. If you are not familiar with the concept, arguments to functions are pass-by-value where Python creates a copy of the variable inside the function and works with that copy. "
   ]
  },
  {
   "cell_type": "code",
   "execution_count": 57,
   "id": "f412643f",
   "metadata": {
    "scrolled": true
   },
   "outputs": [],
   "source": [
    "def square_number(number_in_function):\n",
    "    number_in_function = number_in_function**2"
   ]
  },
  {
   "cell_type": "code",
   "execution_count": 58,
   "id": "9a1eed45",
   "metadata": {
    "scrolled": true
   },
   "outputs": [
    {
     "name": "stdout",
     "output_type": "stream",
     "text": [
      "5\n"
     ]
    }
   ],
   "source": [
    "number = 5\n",
    "square_number(number)\n",
    "print(number)"
   ]
  },
  {
   "cell_type": "markdown",
   "id": "2e14cac5",
   "metadata": {},
   "source": [
    "The number variable itself doesn't get changed!\n",
    "\n",
    "However, Pandas objects, particularly DataFrame and Series are passed as pass-by-reference, where the variable **pointing** to the Pandas object is given to the function and, therefore, any changes made to the object the pointer variable is pointing to within the function, also changes the object in place."
   ]
  },
  {
   "cell_type": "markdown",
   "id": "b7c7df1a",
   "metadata": {},
   "source": [
    "![](https://blog.penjee.com/wp-content/uploads/2015/02/pass-by-reference-vs-pass-by-value-animation.gif)"
   ]
  },
  {
   "cell_type": "markdown",
   "id": "91b6ba57",
   "metadata": {},
   "source": [
    "Moreover, any assignment to a new variable such as `df2 = df` just makes the new variable point to the same DataFrame and as a result, any changes made to `df2` will also impact `df` since they both point to the same object."
   ]
  },
  {
   "cell_type": "code",
   "execution_count": 59,
   "id": "eace0b35",
   "metadata": {
    "scrolled": true
   },
   "outputs": [
    {
     "data": {
      "text/html": [
       "<div>\n",
       "<style scoped>\n",
       "    .dataframe tbody tr th:only-of-type {\n",
       "        vertical-align: middle;\n",
       "    }\n",
       "\n",
       "    .dataframe tbody tr th {\n",
       "        vertical-align: top;\n",
       "    }\n",
       "\n",
       "    .dataframe thead th {\n",
       "        text-align: right;\n",
       "    }\n",
       "</style>\n",
       "<table border=\"1\" class=\"dataframe\">\n",
       "  <thead>\n",
       "    <tr style=\"text-align: right;\">\n",
       "      <th></th>\n",
       "      <th>Chrome</th>\n",
       "      <th>Safari</th>\n",
       "      <th>Firefox</th>\n",
       "    </tr>\n",
       "  </thead>\n",
       "  <tbody>\n",
       "    <tr>\n",
       "      <th>2018</th>\n",
       "      <td>67</td>\n",
       "      <td>74</td>\n",
       "      <td>89</td>\n",
       "    </tr>\n",
       "    <tr>\n",
       "      <th>2019</th>\n",
       "      <td>44</td>\n",
       "      <td>58</td>\n",
       "      <td>70</td>\n",
       "    </tr>\n",
       "    <tr>\n",
       "      <th>2020</th>\n",
       "      <td>8</td>\n",
       "      <td>14</td>\n",
       "      <td>16</td>\n",
       "    </tr>\n",
       "  </tbody>\n",
       "</table>\n",
       "</div>"
      ],
      "text/plain": [
       "      Chrome  Safari  Firefox\n",
       "2018      67      74       89\n",
       "2019      44      58       70\n",
       "2020       8      14       16"
      ]
     },
     "execution_count": 59,
     "metadata": {},
     "output_type": "execute_result"
    }
   ],
   "source": [
    "web_views"
   ]
  },
  {
   "cell_type": "code",
   "execution_count": 60,
   "id": "da6ed809",
   "metadata": {
    "scrolled": true
   },
   "outputs": [],
   "source": [
    "web_views2 = web_views"
   ]
  },
  {
   "cell_type": "markdown",
   "id": "b7c6d44d",
   "metadata": {},
   "source": [
    "We will change a value in web_views2 to see the impact on web_views."
   ]
  },
  {
   "cell_type": "code",
   "execution_count": 61,
   "id": "46756d9a",
   "metadata": {
    "scrolled": true
   },
   "outputs": [],
   "source": [
    "web_views2.loc[2018, 'Safari'] = 87"
   ]
  },
  {
   "cell_type": "code",
   "execution_count": 62,
   "id": "110c2945",
   "metadata": {
    "scrolled": true
   },
   "outputs": [
    {
     "data": {
      "text/html": [
       "<div>\n",
       "<style scoped>\n",
       "    .dataframe tbody tr th:only-of-type {\n",
       "        vertical-align: middle;\n",
       "    }\n",
       "\n",
       "    .dataframe tbody tr th {\n",
       "        vertical-align: top;\n",
       "    }\n",
       "\n",
       "    .dataframe thead th {\n",
       "        text-align: right;\n",
       "    }\n",
       "</style>\n",
       "<table border=\"1\" class=\"dataframe\">\n",
       "  <thead>\n",
       "    <tr style=\"text-align: right;\">\n",
       "      <th></th>\n",
       "      <th>Chrome</th>\n",
       "      <th>Safari</th>\n",
       "      <th>Firefox</th>\n",
       "    </tr>\n",
       "  </thead>\n",
       "  <tbody>\n",
       "    <tr>\n",
       "      <th>2018</th>\n",
       "      <td>67</td>\n",
       "      <td>87</td>\n",
       "      <td>89</td>\n",
       "    </tr>\n",
       "    <tr>\n",
       "      <th>2019</th>\n",
       "      <td>44</td>\n",
       "      <td>58</td>\n",
       "      <td>70</td>\n",
       "    </tr>\n",
       "    <tr>\n",
       "      <th>2020</th>\n",
       "      <td>8</td>\n",
       "      <td>14</td>\n",
       "      <td>16</td>\n",
       "    </tr>\n",
       "  </tbody>\n",
       "</table>\n",
       "</div>"
      ],
      "text/plain": [
       "      Chrome  Safari  Firefox\n",
       "2018      67      87       89\n",
       "2019      44      58       70\n",
       "2020       8      14       16"
      ]
     },
     "execution_count": 62,
     "metadata": {},
     "output_type": "execute_result"
    }
   ],
   "source": [
    "web_views"
   ]
  },
  {
   "cell_type": "markdown",
   "id": "49f8a365",
   "metadata": {},
   "source": [
    "The value in that cell in web_views also changes. Similarly, adding a new row to web_views2 adds it to web_views as well. (As mentioned, they both point to the same dataframe)"
   ]
  },
  {
   "cell_type": "code",
   "execution_count": 63,
   "id": "99828b12",
   "metadata": {
    "scrolled": true
   },
   "outputs": [
    {
     "data": {
      "text/html": [
       "<div>\n",
       "<style scoped>\n",
       "    .dataframe tbody tr th:only-of-type {\n",
       "        vertical-align: middle;\n",
       "    }\n",
       "\n",
       "    .dataframe tbody tr th {\n",
       "        vertical-align: top;\n",
       "    }\n",
       "\n",
       "    .dataframe thead th {\n",
       "        text-align: right;\n",
       "    }\n",
       "</style>\n",
       "<table border=\"1\" class=\"dataframe\">\n",
       "  <thead>\n",
       "    <tr style=\"text-align: right;\">\n",
       "      <th></th>\n",
       "      <th>Chrome</th>\n",
       "      <th>Safari</th>\n",
       "      <th>Firefox</th>\n",
       "    </tr>\n",
       "  </thead>\n",
       "  <tbody>\n",
       "    <tr>\n",
       "      <th>2018</th>\n",
       "      <td>67</td>\n",
       "      <td>87</td>\n",
       "      <td>89</td>\n",
       "    </tr>\n",
       "    <tr>\n",
       "      <th>2019</th>\n",
       "      <td>44</td>\n",
       "      <td>58</td>\n",
       "      <td>70</td>\n",
       "    </tr>\n",
       "    <tr>\n",
       "      <th>2020</th>\n",
       "      <td>8</td>\n",
       "      <td>14</td>\n",
       "      <td>16</td>\n",
       "    </tr>\n",
       "    <tr>\n",
       "      <th>2021</th>\n",
       "      <td>32</td>\n",
       "      <td>19</td>\n",
       "      <td>45</td>\n",
       "    </tr>\n",
       "  </tbody>\n",
       "</table>\n",
       "</div>"
      ],
      "text/plain": [
       "      Chrome  Safari  Firefox\n",
       "2018      67      87       89\n",
       "2019      44      58       70\n",
       "2020       8      14       16\n",
       "2021      32      19       45"
      ]
     },
     "execution_count": 63,
     "metadata": {},
     "output_type": "execute_result"
    }
   ],
   "source": [
    "web_views2.loc[2021] = [32, 19, 45]\n",
    "web_views"
   ]
  },
  {
   "cell_type": "markdown",
   "id": "d9099fd2",
   "metadata": {},
   "source": [
    "Passing dataframe as an argument to a function call doesn't create a new copy but changes the DataFrame in-place as it is only passing the reference of the DataFrame object and not the data."
   ]
  },
  {
   "cell_type": "code",
   "execution_count": 64,
   "id": "f47b6354",
   "metadata": {
    "scrolled": true
   },
   "outputs": [],
   "source": [
    "def square_vals(dataframe):\n",
    "    dataframe[:] = dataframe**2"
   ]
  },
  {
   "cell_type": "markdown",
   "id": "8a47c121",
   "metadata": {},
   "source": [
    "As a result, passing the dataframe as an argument to the `square_vals()` function will alter the original dataset."
   ]
  },
  {
   "cell_type": "code",
   "execution_count": 65,
   "id": "71731bab",
   "metadata": {
    "scrolled": true
   },
   "outputs": [
    {
     "data": {
      "text/html": [
       "<div>\n",
       "<style scoped>\n",
       "    .dataframe tbody tr th:only-of-type {\n",
       "        vertical-align: middle;\n",
       "    }\n",
       "\n",
       "    .dataframe tbody tr th {\n",
       "        vertical-align: top;\n",
       "    }\n",
       "\n",
       "    .dataframe thead th {\n",
       "        text-align: right;\n",
       "    }\n",
       "</style>\n",
       "<table border=\"1\" class=\"dataframe\">\n",
       "  <thead>\n",
       "    <tr style=\"text-align: right;\">\n",
       "      <th></th>\n",
       "      <th>Chrome</th>\n",
       "      <th>Safari</th>\n",
       "      <th>Firefox</th>\n",
       "    </tr>\n",
       "  </thead>\n",
       "  <tbody>\n",
       "    <tr>\n",
       "      <th>2018</th>\n",
       "      <td>4489</td>\n",
       "      <td>7569</td>\n",
       "      <td>7921</td>\n",
       "    </tr>\n",
       "    <tr>\n",
       "      <th>2019</th>\n",
       "      <td>1936</td>\n",
       "      <td>3364</td>\n",
       "      <td>4900</td>\n",
       "    </tr>\n",
       "    <tr>\n",
       "      <th>2020</th>\n",
       "      <td>64</td>\n",
       "      <td>196</td>\n",
       "      <td>256</td>\n",
       "    </tr>\n",
       "    <tr>\n",
       "      <th>2021</th>\n",
       "      <td>1024</td>\n",
       "      <td>361</td>\n",
       "      <td>2025</td>\n",
       "    </tr>\n",
       "  </tbody>\n",
       "</table>\n",
       "</div>"
      ],
      "text/plain": [
       "      Chrome  Safari  Firefox\n",
       "2018    4489    7569     7921\n",
       "2019    1936    3364     4900\n",
       "2020      64     196      256\n",
       "2021    1024     361     2025"
      ]
     },
     "execution_count": 65,
     "metadata": {},
     "output_type": "execute_result"
    }
   ],
   "source": [
    "square_vals(web_views)\n",
    "web_views"
   ]
  },
  {
   "cell_type": "markdown",
   "id": "c4779fd1",
   "metadata": {},
   "source": [
    "The process of assigning DataFrame to a new variable using `=` sign doesn't copy the values but just makes the new variable another point of reference for the dataframe. \n",
    "\n",
    "Pandas uses a method called shallow copy. This creates a new object where the object will only have references to the original data and its indexes but not the data and the index itself. Any changes to values in a shallow copy will also reflect in the original dataframe. The difference this has with using the assignment operator `=` is that we can append extra rows and columns to the shallow copied DataFrame without affecting the original one. The original DataFrame will only change if we change existing values as we are changing the values that are referred to in both the dataframes."
   ]
  },
  {
   "cell_type": "code",
   "execution_count": 66,
   "id": "1aa66a11",
   "metadata": {
    "scrolled": true
   },
   "outputs": [
    {
     "data": {
      "text/html": [
       "<div>\n",
       "<style scoped>\n",
       "    .dataframe tbody tr th:only-of-type {\n",
       "        vertical-align: middle;\n",
       "    }\n",
       "\n",
       "    .dataframe tbody tr th {\n",
       "        vertical-align: top;\n",
       "    }\n",
       "\n",
       "    .dataframe thead th {\n",
       "        text-align: right;\n",
       "    }\n",
       "</style>\n",
       "<table border=\"1\" class=\"dataframe\">\n",
       "  <thead>\n",
       "    <tr style=\"text-align: right;\">\n",
       "      <th></th>\n",
       "      <th>Chrome</th>\n",
       "      <th>Safari</th>\n",
       "      <th>Firefox</th>\n",
       "    </tr>\n",
       "  </thead>\n",
       "  <tbody>\n",
       "    <tr>\n",
       "      <th>2018</th>\n",
       "      <td>4489</td>\n",
       "      <td>7569</td>\n",
       "      <td>7921</td>\n",
       "    </tr>\n",
       "    <tr>\n",
       "      <th>2019</th>\n",
       "      <td>1936</td>\n",
       "      <td>3364</td>\n",
       "      <td>4900</td>\n",
       "    </tr>\n",
       "    <tr>\n",
       "      <th>2020</th>\n",
       "      <td>64</td>\n",
       "      <td>196</td>\n",
       "      <td>256</td>\n",
       "    </tr>\n",
       "    <tr>\n",
       "      <th>2021</th>\n",
       "      <td>1024</td>\n",
       "      <td>361</td>\n",
       "      <td>2025</td>\n",
       "    </tr>\n",
       "  </tbody>\n",
       "</table>\n",
       "</div>"
      ],
      "text/plain": [
       "      Chrome  Safari  Firefox\n",
       "2018    4489    7569     7921\n",
       "2019    1936    3364     4900\n",
       "2020      64     196      256\n",
       "2021    1024     361     2025"
      ]
     },
     "execution_count": 66,
     "metadata": {},
     "output_type": "execute_result"
    }
   ],
   "source": [
    "web_views"
   ]
  },
  {
   "cell_type": "code",
   "execution_count": 67,
   "id": "99a51bb0",
   "metadata": {
    "scrolled": true
   },
   "outputs": [],
   "source": [
    "shallow = web_views.copy(deep=False)"
   ]
  },
  {
   "cell_type": "code",
   "execution_count": 68,
   "id": "573283be",
   "metadata": {
    "scrolled": true
   },
   "outputs": [
    {
     "data": {
      "text/html": [
       "<div>\n",
       "<style scoped>\n",
       "    .dataframe tbody tr th:only-of-type {\n",
       "        vertical-align: middle;\n",
       "    }\n",
       "\n",
       "    .dataframe tbody tr th {\n",
       "        vertical-align: top;\n",
       "    }\n",
       "\n",
       "    .dataframe thead th {\n",
       "        text-align: right;\n",
       "    }\n",
       "</style>\n",
       "<table border=\"1\" class=\"dataframe\">\n",
       "  <thead>\n",
       "    <tr style=\"text-align: right;\">\n",
       "      <th></th>\n",
       "      <th>Chrome</th>\n",
       "      <th>Safari</th>\n",
       "      <th>Firefox</th>\n",
       "    </tr>\n",
       "  </thead>\n",
       "  <tbody>\n",
       "    <tr>\n",
       "      <th>2018</th>\n",
       "      <td>4489</td>\n",
       "      <td>7569</td>\n",
       "      <td>7921</td>\n",
       "    </tr>\n",
       "    <tr>\n",
       "      <th>2019</th>\n",
       "      <td>1936</td>\n",
       "      <td>3364</td>\n",
       "      <td>4900</td>\n",
       "    </tr>\n",
       "    <tr>\n",
       "      <th>2020</th>\n",
       "      <td>80</td>\n",
       "      <td>196</td>\n",
       "      <td>256</td>\n",
       "    </tr>\n",
       "    <tr>\n",
       "      <th>2021</th>\n",
       "      <td>1024</td>\n",
       "      <td>361</td>\n",
       "      <td>2025</td>\n",
       "    </tr>\n",
       "  </tbody>\n",
       "</table>\n",
       "</div>"
      ],
      "text/plain": [
       "      Chrome  Safari  Firefox\n",
       "2018    4489    7569     7921\n",
       "2019    1936    3364     4900\n",
       "2020      80     196      256\n",
       "2021    1024     361     2025"
      ]
     },
     "execution_count": 68,
     "metadata": {},
     "output_type": "execute_result"
    }
   ],
   "source": [
    "shallow.loc[2020, 'Chrome'] = 80\n",
    "web_views"
   ]
  },
  {
   "cell_type": "code",
   "execution_count": 69,
   "id": "75e0f993",
   "metadata": {
    "scrolled": true
   },
   "outputs": [
    {
     "data": {
      "text/html": [
       "<div>\n",
       "<style scoped>\n",
       "    .dataframe tbody tr th:only-of-type {\n",
       "        vertical-align: middle;\n",
       "    }\n",
       "\n",
       "    .dataframe tbody tr th {\n",
       "        vertical-align: top;\n",
       "    }\n",
       "\n",
       "    .dataframe thead th {\n",
       "        text-align: right;\n",
       "    }\n",
       "</style>\n",
       "<table border=\"1\" class=\"dataframe\">\n",
       "  <thead>\n",
       "    <tr style=\"text-align: right;\">\n",
       "      <th></th>\n",
       "      <th>Chrome</th>\n",
       "      <th>Safari</th>\n",
       "      <th>Firefox</th>\n",
       "    </tr>\n",
       "  </thead>\n",
       "  <tbody>\n",
       "    <tr>\n",
       "      <th>2018</th>\n",
       "      <td>4489</td>\n",
       "      <td>7569</td>\n",
       "      <td>7921</td>\n",
       "    </tr>\n",
       "    <tr>\n",
       "      <th>2019</th>\n",
       "      <td>1936</td>\n",
       "      <td>3364</td>\n",
       "      <td>4900</td>\n",
       "    </tr>\n",
       "    <tr>\n",
       "      <th>2020</th>\n",
       "      <td>80</td>\n",
       "      <td>196</td>\n",
       "      <td>256</td>\n",
       "    </tr>\n",
       "    <tr>\n",
       "      <th>2021</th>\n",
       "      <td>1024</td>\n",
       "      <td>361</td>\n",
       "      <td>2025</td>\n",
       "    </tr>\n",
       "  </tbody>\n",
       "</table>\n",
       "</div>"
      ],
      "text/plain": [
       "      Chrome  Safari  Firefox\n",
       "2018    4489    7569     7921\n",
       "2019    1936    3364     4900\n",
       "2020      80     196      256\n",
       "2021    1024     361     2025"
      ]
     },
     "execution_count": 69,
     "metadata": {},
     "output_type": "execute_result"
    }
   ],
   "source": [
    "shallow.loc[2022] = [44, 59, 50]\n",
    "web_views"
   ]
  },
  {
   "cell_type": "markdown",
   "id": "d74835a8",
   "metadata": {},
   "source": [
    "On the other hand, we can use a deep copy which creats a new object and copies both the data and values to the new object. Therefore, any changes to the deep copy will not be reflected in the original copy."
   ]
  },
  {
   "cell_type": "code",
   "execution_count": 70,
   "id": "89ea950f",
   "metadata": {
    "scrolled": true
   },
   "outputs": [],
   "source": [
    "deep = web_views.copy(deep=True)"
   ]
  },
  {
   "cell_type": "code",
   "execution_count": 71,
   "id": "779ddedf",
   "metadata": {
    "scrolled": true
   },
   "outputs": [
    {
     "data": {
      "text/html": [
       "<div>\n",
       "<style scoped>\n",
       "    .dataframe tbody tr th:only-of-type {\n",
       "        vertical-align: middle;\n",
       "    }\n",
       "\n",
       "    .dataframe tbody tr th {\n",
       "        vertical-align: top;\n",
       "    }\n",
       "\n",
       "    .dataframe thead th {\n",
       "        text-align: right;\n",
       "    }\n",
       "</style>\n",
       "<table border=\"1\" class=\"dataframe\">\n",
       "  <thead>\n",
       "    <tr style=\"text-align: right;\">\n",
       "      <th></th>\n",
       "      <th>Chrome</th>\n",
       "      <th>Safari</th>\n",
       "      <th>Firefox</th>\n",
       "    </tr>\n",
       "  </thead>\n",
       "  <tbody>\n",
       "    <tr>\n",
       "      <th>2018</th>\n",
       "      <td>4489</td>\n",
       "      <td>7569</td>\n",
       "      <td>99</td>\n",
       "    </tr>\n",
       "    <tr>\n",
       "      <th>2019</th>\n",
       "      <td>1936</td>\n",
       "      <td>3364</td>\n",
       "      <td>4900</td>\n",
       "    </tr>\n",
       "    <tr>\n",
       "      <th>2020</th>\n",
       "      <td>80</td>\n",
       "      <td>196</td>\n",
       "      <td>256</td>\n",
       "    </tr>\n",
       "    <tr>\n",
       "      <th>2021</th>\n",
       "      <td>1024</td>\n",
       "      <td>361</td>\n",
       "      <td>2025</td>\n",
       "    </tr>\n",
       "  </tbody>\n",
       "</table>\n",
       "</div>"
      ],
      "text/plain": [
       "      Chrome  Safari  Firefox\n",
       "2018    4489    7569       99\n",
       "2019    1936    3364     4900\n",
       "2020      80     196      256\n",
       "2021    1024     361     2025"
      ]
     },
     "execution_count": 71,
     "metadata": {},
     "output_type": "execute_result"
    }
   ],
   "source": [
    "deep.loc[2018, 'Firefox'] = 99\n",
    "deep"
   ]
  },
  {
   "cell_type": "code",
   "execution_count": 72,
   "id": "14122621",
   "metadata": {
    "scrolled": true
   },
   "outputs": [
    {
     "data": {
      "text/html": [
       "<div>\n",
       "<style scoped>\n",
       "    .dataframe tbody tr th:only-of-type {\n",
       "        vertical-align: middle;\n",
       "    }\n",
       "\n",
       "    .dataframe tbody tr th {\n",
       "        vertical-align: top;\n",
       "    }\n",
       "\n",
       "    .dataframe thead th {\n",
       "        text-align: right;\n",
       "    }\n",
       "</style>\n",
       "<table border=\"1\" class=\"dataframe\">\n",
       "  <thead>\n",
       "    <tr style=\"text-align: right;\">\n",
       "      <th></th>\n",
       "      <th>Chrome</th>\n",
       "      <th>Safari</th>\n",
       "      <th>Firefox</th>\n",
       "    </tr>\n",
       "  </thead>\n",
       "  <tbody>\n",
       "    <tr>\n",
       "      <th>2018</th>\n",
       "      <td>4489</td>\n",
       "      <td>7569</td>\n",
       "      <td>7921</td>\n",
       "    </tr>\n",
       "    <tr>\n",
       "      <th>2019</th>\n",
       "      <td>1936</td>\n",
       "      <td>3364</td>\n",
       "      <td>4900</td>\n",
       "    </tr>\n",
       "    <tr>\n",
       "      <th>2020</th>\n",
       "      <td>80</td>\n",
       "      <td>196</td>\n",
       "      <td>256</td>\n",
       "    </tr>\n",
       "    <tr>\n",
       "      <th>2021</th>\n",
       "      <td>1024</td>\n",
       "      <td>361</td>\n",
       "      <td>2025</td>\n",
       "    </tr>\n",
       "  </tbody>\n",
       "</table>\n",
       "</div>"
      ],
      "text/plain": [
       "      Chrome  Safari  Firefox\n",
       "2018    4489    7569     7921\n",
       "2019    1936    3364     4900\n",
       "2020      80     196      256\n",
       "2021    1024     361     2025"
      ]
     },
     "execution_count": 72,
     "metadata": {},
     "output_type": "execute_result"
    }
   ],
   "source": [
    "web_views"
   ]
  },
  {
   "cell_type": "markdown",
   "id": "4c7751de",
   "metadata": {},
   "source": [
    "**Note**: It is important to note that within deep copy, data is copied but actual Python objects will not be copied recursively, only the reference to the object. This means that if the cells in the DataFrame contain references to other objects, the references will be copied only and not the objects it refers too. "
   ]
  },
  {
   "cell_type": "markdown",
   "id": "e2fa96da",
   "metadata": {},
   "source": [
    "### Export"
   ]
  },
  {
   "cell_type": "markdown",
   "id": "da97604f",
   "metadata": {},
   "source": [
    "In the beginning, we went through how we can import a variety of files and read it as a Pandas object. Similarly, we can make use of writer functions that enable us to save a Pandas object to your computer. For saving DataFrames, a few of the methods that we can use are `.to_csv()` (comma-separated file format), `.to_excel()` (MS Excel format) and `to_pickle()` (Python pickle format). All these methods take the file path as the first argument."
   ]
  },
  {
   "cell_type": "code",
   "execution_count": 73,
   "id": "262407bc",
   "metadata": {
    "scrolled": true
   },
   "outputs": [],
   "source": [
    "web_views.to_csv('web_views.csv')"
   ]
  },
  {
   "cell_type": "markdown",
   "id": "6057f8d6",
   "metadata": {},
   "source": [
    "We will save the traffic stops dataframe as a Python pickle format. One benefit of doing this is that it preserves the format and types of the DataFrame that can be imported to our next script. However, it is not human-readable as a csv format."
   ]
  },
  {
   "cell_type": "code",
   "execution_count": 74,
   "id": "6a485569",
   "metadata": {
    "scrolled": true
   },
   "outputs": [],
   "source": [
    "stops_df.to_pickle('stops.pkl')"
   ]
  },
  {
   "cell_type": "markdown",
   "id": "5a87559a",
   "metadata": {},
   "source": [
    "## Advanced Topics\n",
    "\n",
    "### Groupby"
   ]
  },
  {
   "cell_type": "markdown",
   "id": "e1d97fd7",
   "metadata": {},
   "source": [
    "Groupby is certainly amongst the most useful set of methods in pandas. To make this concept intuitive, we will break it down into its 3 major steps: split-apply-combine.\n",
    "\n",
    "In the *split* step, the data is divided into groups by a criteria. For eg. we will group our datasets into race groups (6 in this DataFrame). The format for this step is shown below where the `groupby()` method takes the column name to group over as an argument."
   ]
  },
  {
   "cell_type": "code",
   "execution_count": 75,
   "id": "4b11a230",
   "metadata": {
    "scrolled": true
   },
   "outputs": [],
   "source": [
    "RaceGroups = stops_df.groupby('DriverRace')"
   ]
  },
  {
   "cell_type": "markdown",
   "id": "d650ccb3",
   "metadata": {},
   "source": [
    "In the *apply* step, a function is applied to each group that was formed. These are referred to as aggregation functions. We will use an averaging function (mean) to be applied to values in each race group.\n",
    "\n",
    "The *combine* step then combines and structures the result into a DataFrame. By applying the aggregation function to the grouped data below, we are performing both the apply and combine step. "
   ]
  },
  {
   "cell_type": "code",
   "execution_count": 76,
   "id": "c1ae8325",
   "metadata": {
    "scrolled": true
   },
   "outputs": [
    {
     "data": {
      "text/html": [
       "<div>\n",
       "<style scoped>\n",
       "    .dataframe tbody tr th:only-of-type {\n",
       "        vertical-align: middle;\n",
       "    }\n",
       "\n",
       "    .dataframe tbody tr th {\n",
       "        vertical-align: top;\n",
       "    }\n",
       "\n",
       "    .dataframe thead th {\n",
       "        text-align: right;\n",
       "    }\n",
       "</style>\n",
       "<table border=\"1\" class=\"dataframe\">\n",
       "  <thead>\n",
       "    <tr style=\"text-align: right;\">\n",
       "      <th></th>\n",
       "      <th>Duration</th>\n",
       "    </tr>\n",
       "    <tr>\n",
       "      <th>DriverRace</th>\n",
       "      <th></th>\n",
       "    </tr>\n",
       "  </thead>\n",
       "  <tbody>\n",
       "    <tr>\n",
       "      <th>White</th>\n",
       "      <td>7.501639</td>\n",
       "    </tr>\n",
       "    <tr>\n",
       "      <th>Black or African American</th>\n",
       "      <td>7.777141</td>\n",
       "    </tr>\n",
       "    <tr>\n",
       "      <th>American Indian or Alaska Native</th>\n",
       "      <td>6.758278</td>\n",
       "    </tr>\n",
       "    <tr>\n",
       "      <th>Hispanic or Latino</th>\n",
       "      <td>7.168813</td>\n",
       "    </tr>\n",
       "    <tr>\n",
       "      <th>Asian</th>\n",
       "      <td>6.271658</td>\n",
       "    </tr>\n",
       "    <tr>\n",
       "      <th>Native Hawaiian or Other Pacific Islander</th>\n",
       "      <td>7.015957</td>\n",
       "    </tr>\n",
       "  </tbody>\n",
       "</table>\n",
       "</div>"
      ],
      "text/plain": [
       "                                           Duration\n",
       "DriverRace                                         \n",
       "White                                      7.501639\n",
       "Black or African American                  7.777141\n",
       "American Indian or Alaska Native           6.758278\n",
       "Hispanic or Latino                         7.168813\n",
       "Asian                                      6.271658\n",
       "Native Hawaiian or Other Pacific Islander  7.015957"
      ]
     },
     "execution_count": 76,
     "metadata": {},
     "output_type": "execute_result"
    }
   ],
   "source": [
    "RaceGroups.mean()"
   ]
  },
  {
   "cell_type": "markdown",
   "id": "d352887a",
   "metadata": {},
   "source": [
    "For every numerical column that we have in our dataset, we get a mean value for every group. It surely doesn't make sense to have a mean for every column since some of them contain categories. We can select the column we want to aggregate by specifying along with the group."
   ]
  },
  {
   "cell_type": "code",
   "execution_count": 77,
   "id": "6cea08e9",
   "metadata": {
    "scrolled": true
   },
   "outputs": [
    {
     "data": {
      "text/plain": [
       "DriverRace\n",
       "White                                        7.501639\n",
       "Black or African American                    7.777141\n",
       "American Indian or Alaska Native             6.758278\n",
       "Hispanic or Latino                           7.168813\n",
       "Asian                                        6.271658\n",
       "Native Hawaiian or Other Pacific Islander    7.015957\n",
       "Name: Duration, dtype: float64"
      ]
     },
     "execution_count": 77,
     "metadata": {},
     "output_type": "execute_result"
    }
   ],
   "source": [
    "RaceGroups['Duration'].mean()"
   ]
  },
  {
   "cell_type": "markdown",
   "id": "8cbab302",
   "metadata": {},
   "source": [
    "In order to set the group names as a column, we need to use the `reset_index()` method."
   ]
  },
  {
   "cell_type": "code",
   "execution_count": 78,
   "id": "c1ed687e",
   "metadata": {
    "scrolled": true
   },
   "outputs": [
    {
     "data": {
      "text/html": [
       "<div>\n",
       "<style scoped>\n",
       "    .dataframe tbody tr th:only-of-type {\n",
       "        vertical-align: middle;\n",
       "    }\n",
       "\n",
       "    .dataframe tbody tr th {\n",
       "        vertical-align: top;\n",
       "    }\n",
       "\n",
       "    .dataframe thead th {\n",
       "        text-align: right;\n",
       "    }\n",
       "</style>\n",
       "<table border=\"1\" class=\"dataframe\">\n",
       "  <thead>\n",
       "    <tr style=\"text-align: right;\">\n",
       "      <th></th>\n",
       "      <th>DriverRace</th>\n",
       "      <th>Duration</th>\n",
       "    </tr>\n",
       "  </thead>\n",
       "  <tbody>\n",
       "    <tr>\n",
       "      <th>0</th>\n",
       "      <td>White</td>\n",
       "      <td>7.501639</td>\n",
       "    </tr>\n",
       "    <tr>\n",
       "      <th>1</th>\n",
       "      <td>Black or African American</td>\n",
       "      <td>7.777141</td>\n",
       "    </tr>\n",
       "    <tr>\n",
       "      <th>2</th>\n",
       "      <td>American Indian or Alaska Native</td>\n",
       "      <td>6.758278</td>\n",
       "    </tr>\n",
       "    <tr>\n",
       "      <th>3</th>\n",
       "      <td>Hispanic or Latino</td>\n",
       "      <td>7.168813</td>\n",
       "    </tr>\n",
       "    <tr>\n",
       "      <th>4</th>\n",
       "      <td>Asian</td>\n",
       "      <td>6.271658</td>\n",
       "    </tr>\n",
       "    <tr>\n",
       "      <th>5</th>\n",
       "      <td>Native Hawaiian or Other Pacific Islander</td>\n",
       "      <td>7.015957</td>\n",
       "    </tr>\n",
       "  </tbody>\n",
       "</table>\n",
       "</div>"
      ],
      "text/plain": [
       "                                  DriverRace  Duration\n",
       "0                                      White  7.501639\n",
       "1                  Black or African American  7.777141\n",
       "2           American Indian or Alaska Native  6.758278\n",
       "3                         Hispanic or Latino  7.168813\n",
       "4                                      Asian  6.271658\n",
       "5  Native Hawaiian or Other Pacific Islander  7.015957"
      ]
     },
     "execution_count": 78,
     "metadata": {},
     "output_type": "execute_result"
    }
   ],
   "source": [
    "RaceGroups['Duration'].mean().reset_index()"
   ]
  },
  {
   "cell_type": "markdown",
   "id": "4a3e0931",
   "metadata": {},
   "source": [
    "Size is another aggragation function to get the size for each group."
   ]
  },
  {
   "cell_type": "code",
   "execution_count": 79,
   "id": "a05b480e",
   "metadata": {
    "scrolled": true
   },
   "outputs": [
    {
     "data": {
      "text/plain": [
       "DriverRace\n",
       "White                                         7934\n",
       "Black or African American                    50220\n",
       "American Indian or Alaska Native               302\n",
       "Hispanic or Latino                           15763\n",
       "Asian                                         1870\n",
       "Native Hawaiian or Other Pacific Islander      188\n",
       "dtype: int64"
      ]
     },
     "execution_count": 79,
     "metadata": {},
     "output_type": "execute_result"
    }
   ],
   "source": [
    "RaceGroups.size()"
   ]
  },
  {
   "cell_type": "markdown",
   "id": "7dfe7db4",
   "metadata": {},
   "source": [
    "We can also groupby multiple columns and chain all these steps in a single line."
   ]
  },
  {
   "cell_type": "code",
   "execution_count": 80,
   "id": "0963cd12",
   "metadata": {
    "scrolled": true
   },
   "outputs": [],
   "source": [
    "multi_level_group = stops_df.groupby(['TypeOfMovingViolation',\n",
    "                  'DriverRace']).mean()"
   ]
  },
  {
   "cell_type": "code",
   "execution_count": 81,
   "id": "1bf0a847",
   "metadata": {
    "scrolled": true
   },
   "outputs": [
    {
     "data": {
      "text/html": [
       "<div>\n",
       "<style scoped>\n",
       "    .dataframe tbody tr th:only-of-type {\n",
       "        vertical-align: middle;\n",
       "    }\n",
       "\n",
       "    .dataframe tbody tr th {\n",
       "        vertical-align: top;\n",
       "    }\n",
       "\n",
       "    .dataframe thead th {\n",
       "        text-align: right;\n",
       "    }\n",
       "</style>\n",
       "<table border=\"1\" class=\"dataframe\">\n",
       "  <thead>\n",
       "    <tr style=\"text-align: right;\">\n",
       "      <th></th>\n",
       "      <th></th>\n",
       "      <th>Duration</th>\n",
       "    </tr>\n",
       "    <tr>\n",
       "      <th>TypeOfMovingViolation</th>\n",
       "      <th>DriverRace</th>\n",
       "      <th></th>\n",
       "    </tr>\n",
       "  </thead>\n",
       "  <tbody>\n",
       "    <tr>\n",
       "      <th rowspan=\"6\" valign=\"top\">Speed</th>\n",
       "      <th>White</th>\n",
       "      <td>8.500000</td>\n",
       "    </tr>\n",
       "    <tr>\n",
       "      <th>Black or African American</th>\n",
       "      <td>18.070496</td>\n",
       "    </tr>\n",
       "    <tr>\n",
       "      <th>American Indian or Alaska Native</th>\n",
       "      <td>5.000000</td>\n",
       "    </tr>\n",
       "    <tr>\n",
       "      <th>Hispanic or Latino</th>\n",
       "      <td>13.543307</td>\n",
       "    </tr>\n",
       "    <tr>\n",
       "      <th>Asian</th>\n",
       "      <td>9.900000</td>\n",
       "    </tr>\n",
       "    <tr>\n",
       "      <th>Native Hawaiian or Other Pacific Islander</th>\n",
       "      <td>15.000000</td>\n",
       "    </tr>\n",
       "    <tr>\n",
       "      <th rowspan=\"4\" valign=\"top\">Lane Violation</th>\n",
       "      <th>White</th>\n",
       "      <td>8.907216</td>\n",
       "    </tr>\n",
       "    <tr>\n",
       "      <th>Black or African American</th>\n",
       "      <td>7.950725</td>\n",
       "    </tr>\n",
       "    <tr>\n",
       "      <th>American Indian or Alaska Native</th>\n",
       "      <td>6.100000</td>\n",
       "    </tr>\n",
       "    <tr>\n",
       "      <th>Hispanic or Latino</th>\n",
       "      <td>7.844322</td>\n",
       "    </tr>\n",
       "  </tbody>\n",
       "</table>\n",
       "</div>"
      ],
      "text/plain": [
       "                                                                  Duration\n",
       "TypeOfMovingViolation DriverRace                                          \n",
       "Speed                 White                                       8.500000\n",
       "                      Black or African American                  18.070496\n",
       "                      American Indian or Alaska Native            5.000000\n",
       "                      Hispanic or Latino                         13.543307\n",
       "                      Asian                                       9.900000\n",
       "                      Native Hawaiian or Other Pacific Islander  15.000000\n",
       "Lane Violation        White                                       8.907216\n",
       "                      Black or African American                   7.950725\n",
       "                      American Indian or Alaska Native            6.100000\n",
       "                      Hispanic or Latino                          7.844322"
      ]
     },
     "execution_count": 81,
     "metadata": {},
     "output_type": "execute_result"
    }
   ],
   "source": [
    "multi_level_group.head(10)"
   ]
  },
  {
   "cell_type": "markdown",
   "id": "ef436c3b",
   "metadata": {},
   "source": [
    "### Multi-level Indexing"
   ]
  },
  {
   "cell_type": "markdown",
   "id": "4f06ffbc",
   "metadata": {},
   "source": [
    "In the cell above, we just created a multi-level indexed Series. As the name suggests, multi-level indexing gives us the power to use a hierarchy of indexes to label values in a Pandas DataFrame. This in turn enables us to work with even higher dimensional data and store and manipulate the data in higher dimensions. \n",
    "\n",
    "Fortunately, we can use similar indexing techniques as we introduced above to view and manipulate multi-level indexed DataFrame. Instead of using a single label, we would use a tuple of labels to index a subset."
   ]
  },
  {
   "cell_type": "code",
   "execution_count": 82,
   "id": "a0970092",
   "metadata": {
    "scrolled": true
   },
   "outputs": [
    {
     "data": {
      "text/plain": [
       "pandas.core.indexes.multi.MultiIndex"
      ]
     },
     "execution_count": 82,
     "metadata": {},
     "output_type": "execute_result"
    }
   ],
   "source": [
    "type(multi_level_group.index)"
   ]
  },
  {
   "cell_type": "code",
   "execution_count": 83,
   "id": "3206e459",
   "metadata": {
    "scrolled": true
   },
   "outputs": [
    {
     "data": {
      "text/plain": [
       "8.907216494845361"
      ]
     },
     "execution_count": 83,
     "metadata": {},
     "output_type": "execute_result"
    }
   ],
   "source": [
    "multi_level_group.loc[('Lane Violation','White'),'Duration'] "
   ]
  },
  {
   "cell_type": "markdown",
   "id": "90b88a99",
   "metadata": {},
   "source": [
    "### Merge"
   ]
  },
  {
   "cell_type": "markdown",
   "id": "ad387ab3",
   "metadata": {},
   "source": [
    "In data manipulation operations, there are situations where we need to combine multiple Series or DataFrames together. It could either be the case of stacking similar DataFrames on top of another or combining a supplementary data with some matching columns to the original DataFrame.\n",
    "\n",
    "To illustrate this, we are going to perform 2 kinds of operations. The first one involves concatenation where we will stack a DataFrame vertically below the stops DataFrame. This additional DataFrame will be a portion of the DataFrame that we will break off from the stops DataFrame to demonstrate how it can be re-combined."
   ]
  },
  {
   "cell_type": "code",
   "execution_count": 84,
   "id": "8a708169",
   "metadata": {
    "scrolled": true
   },
   "outputs": [],
   "source": [
    "stops_jan = stops_df.loc[stops_df.loc[:,'DateStop'] < '2021-02-01',:]\n",
    "stops_feb = stops_df.loc[stops_df.loc[:,'DateStop'] > '2021-01-31',:]"
   ]
  },
  {
   "cell_type": "code",
   "execution_count": 85,
   "id": "2d4435a4",
   "metadata": {
    "scrolled": true
   },
   "outputs": [
    {
     "name": "stdout",
     "output_type": "stream",
     "text": [
      "(42705, 12)\n",
      "(33572, 12)\n"
     ]
    }
   ],
   "source": [
    "print(stops_jan.shape)\n",
    "print(stops_feb.shape)"
   ]
  },
  {
   "cell_type": "markdown",
   "id": "e43d909d",
   "metadata": {},
   "source": [
    "We will use the `pd.concat()` function to combine. By specifying `axis = 0`, we are ensuring that it concatenates vertically. By printing the shape we can see the final number of rows after re-combination."
   ]
  },
  {
   "cell_type": "code",
   "execution_count": 86,
   "id": "2e3be31a",
   "metadata": {
    "scrolled": true
   },
   "outputs": [
    {
     "name": "stdout",
     "output_type": "stream",
     "text": [
      "(76277, 12)\n"
     ]
    }
   ],
   "source": [
    "stops_combined = pd.concat([stops_jan, stops_feb], axis = 0)\n",
    "print(stops_combined.shape)"
   ]
  },
  {
   "cell_type": "markdown",
   "id": "20fda07f",
   "metadata": {},
   "source": [
    "The stops DataFrame contains the race of every driver for every stop in a particular police beat. To see if there is involvement of police bias in the traffic stops, we might want to know the proportion of each race group that was stopped relative to their population that beat. For that, we need to know the population of each race group in every beat. Fortunately, we will make use of the Chicago Police beat demographics dataset. In order to find out the proportions of stops per race, we would need to combine both the datasets (the Traffics Stops data and the Beat demographics data) to calculate the proportions. \n",
    "\n",
    "We will use merge for this purpose. Merge enables us to use SQL-like commands to combine DataFrames. It's fine if you are not familiar with SQL. The image illustration can offer a good intuition of what each SQL join refers too.\n",
    "\n",
    "![](https://www.dofactory.com/img/sql/sql-joins.png)\n"
   ]
  },
  {
   "cell_type": "markdown",
   "id": "273c4277",
   "metadata": {},
   "source": [
    "We will first import the Beat demographics dataset 'beat_race.pkl' and then perform an **inner join**. This is also the simple join as shown in the illustration above where only intersecting indexes will be merged. In this example, we will join Beat Code from both the dataset and inner join will ensure that Beat Code existing in both will merge."
   ]
  },
  {
   "cell_type": "code",
   "execution_count": 87,
   "id": "698a6538",
   "metadata": {
    "scrolled": true
   },
   "outputs": [
    {
     "data": {
      "text/html": [
       "<div>\n",
       "<style scoped>\n",
       "    .dataframe tbody tr th:only-of-type {\n",
       "        vertical-align: middle;\n",
       "    }\n",
       "\n",
       "    .dataframe tbody tr th {\n",
       "        vertical-align: top;\n",
       "    }\n",
       "\n",
       "    .dataframe thead th {\n",
       "        text-align: right;\n",
       "    }\n",
       "</style>\n",
       "<table border=\"1\" class=\"dataframe\">\n",
       "  <thead>\n",
       "    <tr style=\"text-align: right;\">\n",
       "      <th></th>\n",
       "      <th>BeatCode</th>\n",
       "      <th>White</th>\n",
       "      <th>Hispanic or Latino</th>\n",
       "      <th>Black or African American</th>\n",
       "      <th>Asian</th>\n",
       "    </tr>\n",
       "  </thead>\n",
       "  <tbody>\n",
       "    <tr>\n",
       "      <th>0</th>\n",
       "      <td>0111</td>\n",
       "      <td>1272</td>\n",
       "      <td>190</td>\n",
       "      <td>85</td>\n",
       "      <td>413</td>\n",
       "    </tr>\n",
       "    <tr>\n",
       "      <th>1</th>\n",
       "      <td>0112</td>\n",
       "      <td>668</td>\n",
       "      <td>56</td>\n",
       "      <td>116</td>\n",
       "      <td>204</td>\n",
       "    </tr>\n",
       "    <tr>\n",
       "      <th>2</th>\n",
       "      <td>0113</td>\n",
       "      <td>614</td>\n",
       "      <td>76</td>\n",
       "      <td>140</td>\n",
       "      <td>211</td>\n",
       "    </tr>\n",
       "    <tr>\n",
       "      <th>3</th>\n",
       "      <td>0114</td>\n",
       "      <td>10783</td>\n",
       "      <td>1058</td>\n",
       "      <td>1246</td>\n",
       "      <td>2736</td>\n",
       "    </tr>\n",
       "    <tr>\n",
       "      <th>4</th>\n",
       "      <td>0121</td>\n",
       "      <td>3114</td>\n",
       "      <td>427</td>\n",
       "      <td>297</td>\n",
       "      <td>2401</td>\n",
       "    </tr>\n",
       "  </tbody>\n",
       "</table>\n",
       "</div>"
      ],
      "text/plain": [
       "  BeatCode  White  Hispanic or Latino  Black or African American  Asian\n",
       "0     0111   1272                 190                         85    413\n",
       "1     0112    668                  56                        116    204\n",
       "2     0113    614                  76                        140    211\n",
       "3     0114  10783                1058                       1246   2736\n",
       "4     0121   3114                 427                        297   2401"
      ]
     },
     "execution_count": 87,
     "metadata": {},
     "output_type": "execute_result"
    }
   ],
   "source": [
    "beatrace = pd.read_pickle('beat_race.pkl')\n",
    "beatrace.head()"
   ]
  },
  {
   "cell_type": "markdown",
   "id": "a10e7de4",
   "metadata": {},
   "source": [
    "In the code below we will create a grouped DataFrame conisisting of Beat Code as index and sum of each Driver's Race in that beat. We have introduced new notations in the code below but we are going to cover it up in the sections ahead. Right now, you can see the DataFrame we produce."
   ]
  },
  {
   "cell_type": "code",
   "execution_count": 88,
   "id": "e7421c05",
   "metadata": {
    "scrolled": true
   },
   "outputs": [],
   "source": [
    "stops_race_dummies = pd.get_dummies(stops_df, columns = ['DriverRace'])\n",
    "stops_race_dummies['BeatCode'] = stops_race_dummies['BeatCode'].astype('str').str.zfill(4)\n",
    "Beat_Race_group = stops_race_dummies.groupby('BeatCode').sum()[stops_race_dummies.columns[11:]]\n",
    "Beat_Race_group.reset_index(inplace=True)"
   ]
  },
  {
   "cell_type": "code",
   "execution_count": 89,
   "id": "270b1d9e",
   "metadata": {
    "scrolled": true
   },
   "outputs": [
    {
     "data": {
      "text/html": [
       "<div>\n",
       "<style scoped>\n",
       "    .dataframe tbody tr th:only-of-type {\n",
       "        vertical-align: middle;\n",
       "    }\n",
       "\n",
       "    .dataframe tbody tr th {\n",
       "        vertical-align: top;\n",
       "    }\n",
       "\n",
       "    .dataframe thead th {\n",
       "        text-align: right;\n",
       "    }\n",
       "</style>\n",
       "<table border=\"1\" class=\"dataframe\">\n",
       "  <thead>\n",
       "    <tr style=\"text-align: right;\">\n",
       "      <th></th>\n",
       "      <th>BeatCode</th>\n",
       "      <th>DriverRace_White</th>\n",
       "      <th>DriverRace_Black or African American</th>\n",
       "      <th>DriverRace_American Indian or Alaska Native</th>\n",
       "      <th>DriverRace_Hispanic or Latino</th>\n",
       "      <th>DriverRace_Asian</th>\n",
       "      <th>DriverRace_Native Hawaiian or Other Pacific Islander</th>\n",
       "    </tr>\n",
       "  </thead>\n",
       "  <tbody>\n",
       "    <tr>\n",
       "      <th>0</th>\n",
       "      <td>0111</td>\n",
       "      <td>64.0</td>\n",
       "      <td>119.0</td>\n",
       "      <td>3.0</td>\n",
       "      <td>59.0</td>\n",
       "      <td>13.0</td>\n",
       "      <td>2.0</td>\n",
       "    </tr>\n",
       "    <tr>\n",
       "      <th>1</th>\n",
       "      <td>0112</td>\n",
       "      <td>43.0</td>\n",
       "      <td>102.0</td>\n",
       "      <td>3.0</td>\n",
       "      <td>30.0</td>\n",
       "      <td>3.0</td>\n",
       "      <td>1.0</td>\n",
       "    </tr>\n",
       "    <tr>\n",
       "      <th>2</th>\n",
       "      <td>0113</td>\n",
       "      <td>71.0</td>\n",
       "      <td>93.0</td>\n",
       "      <td>2.0</td>\n",
       "      <td>49.0</td>\n",
       "      <td>13.0</td>\n",
       "      <td>4.0</td>\n",
       "    </tr>\n",
       "    <tr>\n",
       "      <th>3</th>\n",
       "      <td>0114</td>\n",
       "      <td>89.0</td>\n",
       "      <td>152.0</td>\n",
       "      <td>5.0</td>\n",
       "      <td>75.0</td>\n",
       "      <td>21.0</td>\n",
       "      <td>2.0</td>\n",
       "    </tr>\n",
       "    <tr>\n",
       "      <th>4</th>\n",
       "      <td>0121</td>\n",
       "      <td>22.0</td>\n",
       "      <td>42.0</td>\n",
       "      <td>3.0</td>\n",
       "      <td>14.0</td>\n",
       "      <td>4.0</td>\n",
       "      <td>0.0</td>\n",
       "    </tr>\n",
       "  </tbody>\n",
       "</table>\n",
       "</div>"
      ],
      "text/plain": [
       "  BeatCode  DriverRace_White  DriverRace_Black or African American  \\\n",
       "0     0111              64.0                                 119.0   \n",
       "1     0112              43.0                                 102.0   \n",
       "2     0113              71.0                                  93.0   \n",
       "3     0114              89.0                                 152.0   \n",
       "4     0121              22.0                                  42.0   \n",
       "\n",
       "   DriverRace_American Indian or Alaska Native  DriverRace_Hispanic or Latino  \\\n",
       "0                                          3.0                           59.0   \n",
       "1                                          3.0                           30.0   \n",
       "2                                          2.0                           49.0   \n",
       "3                                          5.0                           75.0   \n",
       "4                                          3.0                           14.0   \n",
       "\n",
       "   DriverRace_Asian  DriverRace_Native Hawaiian or Other Pacific Islander  \n",
       "0              13.0                                                2.0     \n",
       "1               3.0                                                1.0     \n",
       "2              13.0                                                4.0     \n",
       "3              21.0                                                2.0     \n",
       "4               4.0                                                0.0     "
      ]
     },
     "execution_count": 89,
     "metadata": {},
     "output_type": "execute_result"
    }
   ],
   "source": [
    "Beat_Race_group.head()"
   ]
  },
  {
   "cell_type": "markdown",
   "id": "81bd383b",
   "metadata": {},
   "source": [
    "We will then use the merge method to do an inner join. The format for a merge function is as follows:\n",
    "\n",
    "`pandas.merge(left, right, how='inner', on=None, ...)`\n",
    "\n",
    "Here `left` and `right` are the DataFrames that have to be merged."
   ]
  },
  {
   "cell_type": "code",
   "execution_count": 90,
   "id": "e563f722",
   "metadata": {
    "scrolled": true
   },
   "outputs": [],
   "source": [
    "beat_merged = pd.merge(Beat_Race_group, beatrace, how = 'inner', on=\"BeatCode\")"
   ]
  },
  {
   "cell_type": "markdown",
   "id": "8dd6d823",
   "metadata": {},
   "source": [
    "You can now see the merged DataFrame where columns in both DataFrame now share a single index 'BeatCode'."
   ]
  },
  {
   "cell_type": "code",
   "execution_count": 91,
   "id": "5829f118",
   "metadata": {
    "scrolled": true
   },
   "outputs": [
    {
     "data": {
      "text/html": [
       "<div>\n",
       "<style scoped>\n",
       "    .dataframe tbody tr th:only-of-type {\n",
       "        vertical-align: middle;\n",
       "    }\n",
       "\n",
       "    .dataframe tbody tr th {\n",
       "        vertical-align: top;\n",
       "    }\n",
       "\n",
       "    .dataframe thead th {\n",
       "        text-align: right;\n",
       "    }\n",
       "</style>\n",
       "<table border=\"1\" class=\"dataframe\">\n",
       "  <thead>\n",
       "    <tr style=\"text-align: right;\">\n",
       "      <th></th>\n",
       "      <th>BeatCode</th>\n",
       "      <th>DriverRace_White</th>\n",
       "      <th>DriverRace_Black or African American</th>\n",
       "      <th>DriverRace_American Indian or Alaska Native</th>\n",
       "      <th>DriverRace_Hispanic or Latino</th>\n",
       "      <th>DriverRace_Asian</th>\n",
       "      <th>DriverRace_Native Hawaiian or Other Pacific Islander</th>\n",
       "      <th>White</th>\n",
       "      <th>Hispanic or Latino</th>\n",
       "      <th>Black or African American</th>\n",
       "      <th>Asian</th>\n",
       "    </tr>\n",
       "  </thead>\n",
       "  <tbody>\n",
       "    <tr>\n",
       "      <th>0</th>\n",
       "      <td>0111</td>\n",
       "      <td>64.0</td>\n",
       "      <td>119.0</td>\n",
       "      <td>3.0</td>\n",
       "      <td>59.0</td>\n",
       "      <td>13.0</td>\n",
       "      <td>2.0</td>\n",
       "      <td>1272</td>\n",
       "      <td>190</td>\n",
       "      <td>85</td>\n",
       "      <td>413</td>\n",
       "    </tr>\n",
       "    <tr>\n",
       "      <th>1</th>\n",
       "      <td>0112</td>\n",
       "      <td>43.0</td>\n",
       "      <td>102.0</td>\n",
       "      <td>3.0</td>\n",
       "      <td>30.0</td>\n",
       "      <td>3.0</td>\n",
       "      <td>1.0</td>\n",
       "      <td>668</td>\n",
       "      <td>56</td>\n",
       "      <td>116</td>\n",
       "      <td>204</td>\n",
       "    </tr>\n",
       "    <tr>\n",
       "      <th>2</th>\n",
       "      <td>0113</td>\n",
       "      <td>71.0</td>\n",
       "      <td>93.0</td>\n",
       "      <td>2.0</td>\n",
       "      <td>49.0</td>\n",
       "      <td>13.0</td>\n",
       "      <td>4.0</td>\n",
       "      <td>614</td>\n",
       "      <td>76</td>\n",
       "      <td>140</td>\n",
       "      <td>211</td>\n",
       "    </tr>\n",
       "    <tr>\n",
       "      <th>3</th>\n",
       "      <td>0114</td>\n",
       "      <td>89.0</td>\n",
       "      <td>152.0</td>\n",
       "      <td>5.0</td>\n",
       "      <td>75.0</td>\n",
       "      <td>21.0</td>\n",
       "      <td>2.0</td>\n",
       "      <td>10783</td>\n",
       "      <td>1058</td>\n",
       "      <td>1246</td>\n",
       "      <td>2736</td>\n",
       "    </tr>\n",
       "    <tr>\n",
       "      <th>4</th>\n",
       "      <td>0121</td>\n",
       "      <td>22.0</td>\n",
       "      <td>42.0</td>\n",
       "      <td>3.0</td>\n",
       "      <td>14.0</td>\n",
       "      <td>4.0</td>\n",
       "      <td>0.0</td>\n",
       "      <td>3114</td>\n",
       "      <td>427</td>\n",
       "      <td>297</td>\n",
       "      <td>2401</td>\n",
       "    </tr>\n",
       "  </tbody>\n",
       "</table>\n",
       "</div>"
      ],
      "text/plain": [
       "  BeatCode  DriverRace_White  DriverRace_Black or African American  \\\n",
       "0     0111              64.0                                 119.0   \n",
       "1     0112              43.0                                 102.0   \n",
       "2     0113              71.0                                  93.0   \n",
       "3     0114              89.0                                 152.0   \n",
       "4     0121              22.0                                  42.0   \n",
       "\n",
       "   DriverRace_American Indian or Alaska Native  DriverRace_Hispanic or Latino  \\\n",
       "0                                          3.0                           59.0   \n",
       "1                                          3.0                           30.0   \n",
       "2                                          2.0                           49.0   \n",
       "3                                          5.0                           75.0   \n",
       "4                                          3.0                           14.0   \n",
       "\n",
       "   DriverRace_Asian  DriverRace_Native Hawaiian or Other Pacific Islander  \\\n",
       "0              13.0                                                2.0      \n",
       "1               3.0                                                1.0      \n",
       "2              13.0                                                4.0      \n",
       "3              21.0                                                2.0      \n",
       "4               4.0                                                0.0      \n",
       "\n",
       "   White  Hispanic or Latino  Black or African American  Asian  \n",
       "0   1272                 190                         85    413  \n",
       "1    668                  56                        116    204  \n",
       "2    614                  76                        140    211  \n",
       "3  10783                1058                       1246   2736  \n",
       "4   3114                 427                        297   2401  "
      ]
     },
     "execution_count": 91,
     "metadata": {},
     "output_type": "execute_result"
    }
   ],
   "source": [
    "beat_merged.head()"
   ]
  },
  {
   "cell_type": "markdown",
   "id": "fb0db429",
   "metadata": {},
   "source": [
    "## Additional Concepts\n",
    "\n",
    "### Method Chaining\n",
    "\n",
    "As the name suggests, method chaining enables us to use a series of methods in a single command. This is possible because every method that we use on a pandas object gets returned as a pandas object itself, allowing us to apply another method on it. Method chaining simplies are code and makes it more readable.\n",
    "\n",
    "Below is an example of how we performed multiple operations using method chaining."
   ]
  },
  {
   "cell_type": "code",
   "execution_count": 92,
   "id": "1b82a3cd",
   "metadata": {
    "scrolled": true
   },
   "outputs": [
    {
     "data": {
      "text/html": [
       "<div>\n",
       "<style scoped>\n",
       "    .dataframe tbody tr th:only-of-type {\n",
       "        vertical-align: middle;\n",
       "    }\n",
       "\n",
       "    .dataframe tbody tr th {\n",
       "        vertical-align: top;\n",
       "    }\n",
       "\n",
       "    .dataframe thead th {\n",
       "        text-align: right;\n",
       "    }\n",
       "</style>\n",
       "<table border=\"1\" class=\"dataframe\">\n",
       "  <thead>\n",
       "    <tr style=\"text-align: right;\">\n",
       "      <th></th>\n",
       "      <th>TypeOfMovingViolation</th>\n",
       "      <th>DriverRace</th>\n",
       "      <th>Duration</th>\n",
       "    </tr>\n",
       "  </thead>\n",
       "  <tbody>\n",
       "    <tr>\n",
       "      <th>0</th>\n",
       "      <td>Speed</td>\n",
       "      <td>White</td>\n",
       "      <td>8.500000</td>\n",
       "    </tr>\n",
       "    <tr>\n",
       "      <th>1</th>\n",
       "      <td>Speed</td>\n",
       "      <td>Black or African American</td>\n",
       "      <td>18.070496</td>\n",
       "    </tr>\n",
       "    <tr>\n",
       "      <th>2</th>\n",
       "      <td>Speed</td>\n",
       "      <td>American Indian or Alaska Native</td>\n",
       "      <td>5.000000</td>\n",
       "    </tr>\n",
       "    <tr>\n",
       "      <th>3</th>\n",
       "      <td>Speed</td>\n",
       "      <td>Hispanic or Latino</td>\n",
       "      <td>13.543307</td>\n",
       "    </tr>\n",
       "    <tr>\n",
       "      <th>4</th>\n",
       "      <td>Speed</td>\n",
       "      <td>Asian</td>\n",
       "      <td>9.900000</td>\n",
       "    </tr>\n",
       "  </tbody>\n",
       "</table>\n",
       "</div>"
      ],
      "text/plain": [
       "  TypeOfMovingViolation                        DriverRace   Duration\n",
       "0                 Speed                             White   8.500000\n",
       "1                 Speed         Black or African American  18.070496\n",
       "2                 Speed  American Indian or Alaska Native   5.000000\n",
       "3                 Speed                Hispanic or Latino  13.543307\n",
       "4                 Speed                             Asian   9.900000"
      ]
     },
     "execution_count": 92,
     "metadata": {},
     "output_type": "execute_result"
    }
   ],
   "source": [
    "stops_df.groupby(['TypeOfMovingViolation',\n",
    "                  'DriverRace'])['Duration'].mean().reset_index().head()"
   ]
  }
 ],
 "metadata": {
  "kernelspec": {
   "display_name": "Python 3 (ipykernel)",
   "language": "python",
   "name": "python3"
  },
  "language_info": {
   "codemirror_mode": {
    "name": "ipython",
    "version": 3
   },
   "file_extension": ".py",
   "mimetype": "text/x-python",
   "name": "python",
   "nbconvert_exporter": "python",
   "pygments_lexer": "ipython3",
   "version": "3.9.12"
  }
 },
 "nbformat": 4,
 "nbformat_minor": 5
}
